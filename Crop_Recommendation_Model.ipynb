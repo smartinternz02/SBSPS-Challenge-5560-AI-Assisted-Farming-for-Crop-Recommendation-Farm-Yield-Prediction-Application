{
 "cells": [
  {
   "cell_type": "code",
   "execution_count": 1,
   "source": [
    "# Importing libraries\r\n",
    "\r\n",
    "from __future__ import print_function\r\n",
    "import pandas as pd\r\n",
    "import numpy as np\r\n",
    "import matplotlib.pyplot as plt\r\n",
    "import seaborn as sns\r\n",
    "from sklearn.metrics import classification_report\r\n",
    "from sklearn import metrics\r\n",
    "from sklearn import tree\r\n",
    "import warnings\r\n",
    "warnings.filterwarnings('ignore')"
   ],
   "outputs": [],
   "metadata": {}
  },
  {
   "cell_type": "code",
   "execution_count": 2,
   "source": [
    "df = pd.read_csv(r'C:\\Users\\staff\\Desktop\\Harvestify-master\\Harvestify-master\\Data-processed\\crop_recommendation.csv')"
   ],
   "outputs": [],
   "metadata": {}
  },
  {
   "cell_type": "code",
   "execution_count": 3,
   "source": [
    "df.head()"
   ],
   "outputs": [
    {
     "output_type": "execute_result",
     "data": {
      "text/plain": [
       "    N   P   K  temperature   humidity        ph    rainfall label\n",
       "0  66  36  41    20.879744  82.002744  6.502985  202.935536  rice\n",
       "1  98  35  38    21.770462  80.319644  7.038096  226.655537  rice\n",
       "2  64  51  44    23.004459  82.320763  7.840207  263.964248  rice\n",
       "3  69  46  45    26.491096  80.158363  6.980401  242.864034  rice\n",
       "4  88  57  43    20.130175  81.604873  7.628473  262.717340  rice"
      ],
      "text/html": [
       "<div>\n",
       "<style scoped>\n",
       "    .dataframe tbody tr th:only-of-type {\n",
       "        vertical-align: middle;\n",
       "    }\n",
       "\n",
       "    .dataframe tbody tr th {\n",
       "        vertical-align: top;\n",
       "    }\n",
       "\n",
       "    .dataframe thead th {\n",
       "        text-align: right;\n",
       "    }\n",
       "</style>\n",
       "<table border=\"1\" class=\"dataframe\">\n",
       "  <thead>\n",
       "    <tr style=\"text-align: right;\">\n",
       "      <th></th>\n",
       "      <th>N</th>\n",
       "      <th>P</th>\n",
       "      <th>K</th>\n",
       "      <th>temperature</th>\n",
       "      <th>humidity</th>\n",
       "      <th>ph</th>\n",
       "      <th>rainfall</th>\n",
       "      <th>label</th>\n",
       "    </tr>\n",
       "  </thead>\n",
       "  <tbody>\n",
       "    <tr>\n",
       "      <th>0</th>\n",
       "      <td>66</td>\n",
       "      <td>36</td>\n",
       "      <td>41</td>\n",
       "      <td>20.879744</td>\n",
       "      <td>82.002744</td>\n",
       "      <td>6.502985</td>\n",
       "      <td>202.935536</td>\n",
       "      <td>rice</td>\n",
       "    </tr>\n",
       "    <tr>\n",
       "      <th>1</th>\n",
       "      <td>98</td>\n",
       "      <td>35</td>\n",
       "      <td>38</td>\n",
       "      <td>21.770462</td>\n",
       "      <td>80.319644</td>\n",
       "      <td>7.038096</td>\n",
       "      <td>226.655537</td>\n",
       "      <td>rice</td>\n",
       "    </tr>\n",
       "    <tr>\n",
       "      <th>2</th>\n",
       "      <td>64</td>\n",
       "      <td>51</td>\n",
       "      <td>44</td>\n",
       "      <td>23.004459</td>\n",
       "      <td>82.320763</td>\n",
       "      <td>7.840207</td>\n",
       "      <td>263.964248</td>\n",
       "      <td>rice</td>\n",
       "    </tr>\n",
       "    <tr>\n",
       "      <th>3</th>\n",
       "      <td>69</td>\n",
       "      <td>46</td>\n",
       "      <td>45</td>\n",
       "      <td>26.491096</td>\n",
       "      <td>80.158363</td>\n",
       "      <td>6.980401</td>\n",
       "      <td>242.864034</td>\n",
       "      <td>rice</td>\n",
       "    </tr>\n",
       "    <tr>\n",
       "      <th>4</th>\n",
       "      <td>88</td>\n",
       "      <td>57</td>\n",
       "      <td>43</td>\n",
       "      <td>20.130175</td>\n",
       "      <td>81.604873</td>\n",
       "      <td>7.628473</td>\n",
       "      <td>262.717340</td>\n",
       "      <td>rice</td>\n",
       "    </tr>\n",
       "  </tbody>\n",
       "</table>\n",
       "</div>"
      ]
     },
     "metadata": {},
     "execution_count": 3
    }
   ],
   "metadata": {}
  },
  {
   "cell_type": "code",
   "execution_count": 4,
   "source": [
    "df.tail()"
   ],
   "outputs": [
    {
     "output_type": "execute_result",
     "data": {
      "text/plain": [
       "        N   P   K  temperature   humidity        ph    rainfall   label\n",
       "2195  119  15  25    26.774637  66.413269  6.780064  177.774507  coffee\n",
       "2196  118  36  30    27.417112  56.636362  6.086922  127.924610  coffee\n",
       "2197  105  31  33    24.131797  67.225123  6.362608  173.322839  coffee\n",
       "2198   83  28  33    26.272418  52.127394  6.758793  127.175293  coffee\n",
       "2199   82  20  32    23.603016  60.396475  6.779833  140.937041  coffee"
      ],
      "text/html": [
       "<div>\n",
       "<style scoped>\n",
       "    .dataframe tbody tr th:only-of-type {\n",
       "        vertical-align: middle;\n",
       "    }\n",
       "\n",
       "    .dataframe tbody tr th {\n",
       "        vertical-align: top;\n",
       "    }\n",
       "\n",
       "    .dataframe thead th {\n",
       "        text-align: right;\n",
       "    }\n",
       "</style>\n",
       "<table border=\"1\" class=\"dataframe\">\n",
       "  <thead>\n",
       "    <tr style=\"text-align: right;\">\n",
       "      <th></th>\n",
       "      <th>N</th>\n",
       "      <th>P</th>\n",
       "      <th>K</th>\n",
       "      <th>temperature</th>\n",
       "      <th>humidity</th>\n",
       "      <th>ph</th>\n",
       "      <th>rainfall</th>\n",
       "      <th>label</th>\n",
       "    </tr>\n",
       "  </thead>\n",
       "  <tbody>\n",
       "    <tr>\n",
       "      <th>2195</th>\n",
       "      <td>119</td>\n",
       "      <td>15</td>\n",
       "      <td>25</td>\n",
       "      <td>26.774637</td>\n",
       "      <td>66.413269</td>\n",
       "      <td>6.780064</td>\n",
       "      <td>177.774507</td>\n",
       "      <td>coffee</td>\n",
       "    </tr>\n",
       "    <tr>\n",
       "      <th>2196</th>\n",
       "      <td>118</td>\n",
       "      <td>36</td>\n",
       "      <td>30</td>\n",
       "      <td>27.417112</td>\n",
       "      <td>56.636362</td>\n",
       "      <td>6.086922</td>\n",
       "      <td>127.924610</td>\n",
       "      <td>coffee</td>\n",
       "    </tr>\n",
       "    <tr>\n",
       "      <th>2197</th>\n",
       "      <td>105</td>\n",
       "      <td>31</td>\n",
       "      <td>33</td>\n",
       "      <td>24.131797</td>\n",
       "      <td>67.225123</td>\n",
       "      <td>6.362608</td>\n",
       "      <td>173.322839</td>\n",
       "      <td>coffee</td>\n",
       "    </tr>\n",
       "    <tr>\n",
       "      <th>2198</th>\n",
       "      <td>83</td>\n",
       "      <td>28</td>\n",
       "      <td>33</td>\n",
       "      <td>26.272418</td>\n",
       "      <td>52.127394</td>\n",
       "      <td>6.758793</td>\n",
       "      <td>127.175293</td>\n",
       "      <td>coffee</td>\n",
       "    </tr>\n",
       "    <tr>\n",
       "      <th>2199</th>\n",
       "      <td>82</td>\n",
       "      <td>20</td>\n",
       "      <td>32</td>\n",
       "      <td>23.603016</td>\n",
       "      <td>60.396475</td>\n",
       "      <td>6.779833</td>\n",
       "      <td>140.937041</td>\n",
       "      <td>coffee</td>\n",
       "    </tr>\n",
       "  </tbody>\n",
       "</table>\n",
       "</div>"
      ]
     },
     "metadata": {},
     "execution_count": 4
    }
   ],
   "metadata": {}
  },
  {
   "cell_type": "code",
   "execution_count": 5,
   "source": [
    "df.size"
   ],
   "outputs": [
    {
     "output_type": "execute_result",
     "data": {
      "text/plain": [
       "17600"
      ]
     },
     "metadata": {},
     "execution_count": 5
    }
   ],
   "metadata": {}
  },
  {
   "cell_type": "code",
   "execution_count": 6,
   "source": [
    "df.shape"
   ],
   "outputs": [
    {
     "output_type": "execute_result",
     "data": {
      "text/plain": [
       "(2200, 8)"
      ]
     },
     "metadata": {},
     "execution_count": 6
    }
   ],
   "metadata": {}
  },
  {
   "cell_type": "code",
   "execution_count": 7,
   "source": [
    "df.columns"
   ],
   "outputs": [
    {
     "output_type": "execute_result",
     "data": {
      "text/plain": [
       "Index(['N', 'P', 'K', 'temperature', 'humidity', 'ph', 'rainfall', 'label'], dtype='object')"
      ]
     },
     "metadata": {},
     "execution_count": 7
    }
   ],
   "metadata": {}
  },
  {
   "cell_type": "code",
   "execution_count": 8,
   "source": [
    "df['label'].unique()"
   ],
   "outputs": [
    {
     "output_type": "execute_result",
     "data": {
      "text/plain": [
       "array(['rice', 'maize', 'chickpea', 'kidneybeans', 'pigeonpeas',\n",
       "       'mothbeans', 'mungbean', 'blackgram', 'lentil', 'pomegranate',\n",
       "       'banana', 'mango', 'grapes', 'watermelon', 'muskmelon', 'apple',\n",
       "       'orange', 'papaya', 'coconut', 'cotton', 'jute', 'coffee'],\n",
       "      dtype=object)"
      ]
     },
     "metadata": {},
     "execution_count": 8
    }
   ],
   "metadata": {}
  },
  {
   "cell_type": "code",
   "execution_count": 9,
   "source": [
    "df.dtypes"
   ],
   "outputs": [
    {
     "output_type": "execute_result",
     "data": {
      "text/plain": [
       "N                int64\n",
       "P                int64\n",
       "K                int64\n",
       "temperature    float64\n",
       "humidity       float64\n",
       "ph             float64\n",
       "rainfall       float64\n",
       "label           object\n",
       "dtype: object"
      ]
     },
     "metadata": {},
     "execution_count": 9
    }
   ],
   "metadata": {}
  },
  {
   "cell_type": "code",
   "execution_count": 10,
   "source": [
    "df['label'].value_counts()"
   ],
   "outputs": [
    {
     "output_type": "execute_result",
     "data": {
      "text/plain": [
       "blackgram      100\n",
       "papaya         100\n",
       "maize          100\n",
       "chickpea       100\n",
       "banana         100\n",
       "jute           100\n",
       "apple          100\n",
       "pigeonpeas     100\n",
       "mungbean       100\n",
       "mothbeans      100\n",
       "lentil         100\n",
       "mango          100\n",
       "kidneybeans    100\n",
       "pomegranate    100\n",
       "cotton         100\n",
       "orange         100\n",
       "rice           100\n",
       "grapes         100\n",
       "coffee         100\n",
       "muskmelon      100\n",
       "coconut        100\n",
       "watermelon     100\n",
       "Name: label, dtype: int64"
      ]
     },
     "metadata": {},
     "execution_count": 10
    }
   ],
   "metadata": {}
  },
  {
   "cell_type": "code",
   "execution_count": 11,
   "source": [
    "sns.heatmap(df.corr(),annot=True)"
   ],
   "outputs": [
    {
     "output_type": "execute_result",
     "data": {
      "text/plain": [
       "<AxesSubplot:>"
      ]
     },
     "metadata": {},
     "execution_count": 11
    },
    {
     "output_type": "display_data",
     "data": {
      "text/plain": [
       "<Figure size 432x288 with 2 Axes>"
      ],
      "image/svg+xml": "<?xml version=\"1.0\" encoding=\"utf-8\" standalone=\"no\"?>\r\n<!DOCTYPE svg PUBLIC \"-//W3C//DTD SVG 1.1//EN\"\r\n  \"http://www.w3.org/Graphics/SVG/1.1/DTD/svg11.dtd\">\r\n<svg height=\"305.490781pt\" version=\"1.1\" viewBox=\"0 0 410.986375 305.490781\" width=\"410.986375pt\" xmlns=\"http://www.w3.org/2000/svg\" xmlns:xlink=\"http://www.w3.org/1999/xlink\">\r\n <metadata>\r\n  <rdf:RDF xmlns:cc=\"http://creativecommons.org/ns#\" xmlns:dc=\"http://purl.org/dc/elements/1.1/\" xmlns:rdf=\"http://www.w3.org/1999/02/22-rdf-syntax-ns#\">\r\n   <cc:Work>\r\n    <dc:type rdf:resource=\"http://purl.org/dc/dcmitype/StillImage\"/>\r\n    <dc:date>2021-08-21T20:20:53.546739</dc:date>\r\n    <dc:format>image/svg+xml</dc:format>\r\n    <dc:creator>\r\n     <cc:Agent>\r\n      <dc:title>Matplotlib v3.4.2, https://matplotlib.org/</dc:title>\r\n     </cc:Agent>\r\n    </dc:creator>\r\n   </cc:Work>\r\n  </rdf:RDF>\r\n </metadata>\r\n <defs>\r\n  <style type=\"text/css\">*{stroke-linecap:butt;stroke-linejoin:round;}</style>\r\n </defs>\r\n <g id=\"figure_1\">\r\n  <g id=\"patch_1\">\r\n   <path d=\"M 0 305.490781 \r\nL 410.986375 305.490781 \r\nL 410.986375 0 \r\nL 0 0 \r\nz\r\n\" style=\"fill:none;\"/>\r\n  </g>\r\n  <g id=\"axes_1\">\r\n   <g id=\"patch_2\">\r\n    <path d=\"M 77.051563 228.439219 \r\nL 344.891563 228.439219 \r\nL 344.891563 10.999219 \r\nL 77.051563 10.999219 \r\nz\r\n\" style=\"fill:#ffffff;\"/>\r\n   </g>\r\n   <g id=\"QuadMesh_1\">\r\n    <path clip-path=\"url(#p89b978362a)\" d=\"M 77.051563 10.999219 \r\nL 115.31442 10.999219 \r\nL 115.31442 42.062076 \r\nL 77.051563 42.062076 \r\nL 77.051563 10.999219 \r\n\" style=\"fill:#faebdd;\"/>\r\n    <path clip-path=\"url(#p89b978362a)\" d=\"M 115.31442 10.999219 \r\nL 153.577277 10.999219 \r\nL 153.577277 42.062076 \r\nL 115.31442 42.062076 \r\nL 115.31442 10.999219 \r\n\" style=\"fill:#03051a;\"/>\r\n    <path clip-path=\"url(#p89b978362a)\" d=\"M 153.577277 10.999219 \r\nL 191.840134 10.999219 \r\nL 191.840134 42.062076 \r\nL 153.577277 42.062076 \r\nL 153.577277 10.999219 \r\n\" style=\"fill:#160e27;\"/>\r\n    <path clip-path=\"url(#p89b978362a)\" d=\"M 191.840134 10.999219 \r\nL 230.102991 10.999219 \r\nL 230.102991 42.062076 \r\nL 191.840134 42.062076 \r\nL 191.840134 10.999219 \r\n\" style=\"fill:#491d49;\"/>\r\n    <path clip-path=\"url(#p89b978362a)\" d=\"M 230.102991 10.999219 \r\nL 268.365848 10.999219 \r\nL 268.365848 42.062076 \r\nL 230.102991 42.062076 \r\nL 230.102991 10.999219 \r\n\" style=\"fill:#861e5b;\"/>\r\n    <path clip-path=\"url(#p89b978362a)\" d=\"M 268.365848 10.999219 \r\nL 306.628705 10.999219 \r\nL 306.628705 42.062076 \r\nL 268.365848 42.062076 \r\nL 268.365848 10.999219 \r\n\" style=\"fill:#641f54;\"/>\r\n    <path clip-path=\"url(#p89b978362a)\" d=\"M 306.628705 10.999219 \r\nL 344.891563 10.999219 \r\nL 344.891563 42.062076 \r\nL 306.628705 42.062076 \r\nL 306.628705 10.999219 \r\n\" style=\"fill:#5c1e51;\"/>\r\n    <path clip-path=\"url(#p89b978362a)\" d=\"M 77.051563 42.062076 \r\nL 115.31442 42.062076 \r\nL 115.31442 73.124933 \r\nL 77.051563 73.124933 \r\nL 77.051563 42.062076 \r\n\" style=\"fill:#03051a;\"/>\r\n    <path clip-path=\"url(#p89b978362a)\" d=\"M 115.31442 42.062076 \r\nL 153.577277 42.062076 \r\nL 153.577277 73.124933 \r\nL 115.31442 73.124933 \r\nL 115.31442 42.062076 \r\n\" style=\"fill:#faebdd;\"/>\r\n    <path clip-path=\"url(#p89b978362a)\" d=\"M 153.577277 42.062076 \r\nL 191.840134 42.062076 \r\nL 191.840134 73.124933 \r\nL 153.577277 73.124933 \r\nL 153.577277 42.062076 \r\n\" style=\"fill:#f5966c;\"/>\r\n    <path clip-path=\"url(#p89b978362a)\" d=\"M 191.840134 42.062076 \r\nL 230.102991 42.062076 \r\nL 230.102991 73.124933 \r\nL 191.840134 73.124933 \r\nL 191.840134 42.062076 \r\n\" style=\"fill:#1d112c;\"/>\r\n    <path clip-path=\"url(#p89b978362a)\" d=\"M 230.102991 42.062076 \r\nL 268.365848 42.062076 \r\nL 268.365848 73.124933 \r\nL 230.102991 73.124933 \r\nL 230.102991 42.062076 \r\n\" style=\"fill:#20122e;\"/>\r\n    <path clip-path=\"url(#p89b978362a)\" d=\"M 268.365848 42.062076 \r\nL 306.628705 42.062076 \r\nL 306.628705 73.124933 \r\nL 268.365848 73.124933 \r\nL 268.365848 42.062076 \r\n\" style=\"fill:#20122e;\"/>\r\n    <path clip-path=\"url(#p89b978362a)\" d=\"M 306.628705 42.062076 \r\nL 344.891563 42.062076 \r\nL 344.891563 73.124933 \r\nL 306.628705 73.124933 \r\nL 306.628705 42.062076 \r\n\" style=\"fill:#33183c;\"/>\r\n    <path clip-path=\"url(#p89b978362a)\" d=\"M 77.051563 73.124933 \r\nL 115.31442 73.124933 \r\nL 115.31442 104.18779 \r\nL 77.051563 104.18779 \r\nL 77.051563 73.124933 \r\n\" style=\"fill:#160e27;\"/>\r\n    <path clip-path=\"url(#p89b978362a)\" d=\"M 115.31442 73.124933 \r\nL 153.577277 73.124933 \r\nL 153.577277 104.18779 \r\nL 115.31442 104.18779 \r\nL 115.31442 73.124933 \r\n\" style=\"fill:#f5966c;\"/>\r\n    <path clip-path=\"url(#p89b978362a)\" d=\"M 153.577277 73.124933 \r\nL 191.840134 73.124933 \r\nL 191.840134 104.18779 \r\nL 153.577277 104.18779 \r\nL 153.577277 73.124933 \r\n\" style=\"fill:#faebdd;\"/>\r\n    <path clip-path=\"url(#p89b978362a)\" d=\"M 191.840134 73.124933 \r\nL 230.102991 73.124933 \r\nL 230.102991 104.18779 \r\nL 191.840134 104.18779 \r\nL 191.840134 73.124933 \r\n\" style=\"fill:#140e26;\"/>\r\n    <path clip-path=\"url(#p89b978362a)\" d=\"M 230.102991 73.124933 \r\nL 268.365848 73.124933 \r\nL 268.365848 104.18779 \r\nL 230.102991 104.18779 \r\nL 230.102991 73.124933 \r\n\" style=\"fill:#861e5b;\"/>\r\n    <path clip-path=\"url(#p89b978362a)\" d=\"M 268.365848 73.124933 \r\nL 306.628705 73.124933 \r\nL 306.628705 104.18779 \r\nL 268.365848 104.18779 \r\nL 268.365848 73.124933 \r\n\" style=\"fill:#130d25;\"/>\r\n    <path clip-path=\"url(#p89b978362a)\" d=\"M 306.628705 73.124933 \r\nL 344.891563 73.124933 \r\nL 344.891563 104.18779 \r\nL 306.628705 104.18779 \r\nL 306.628705 73.124933 \r\n\" style=\"fill:#34193d;\"/>\r\n    <path clip-path=\"url(#p89b978362a)\" d=\"M 77.051563 104.18779 \r\nL 115.31442 104.18779 \r\nL 115.31442 135.250647 \r\nL 77.051563 135.250647 \r\nL 77.051563 104.18779 \r\n\" style=\"fill:#491d49;\"/>\r\n    <path clip-path=\"url(#p89b978362a)\" d=\"M 115.31442 104.18779 \r\nL 153.577277 104.18779 \r\nL 153.577277 135.250647 \r\nL 115.31442 135.250647 \r\nL 115.31442 104.18779 \r\n\" style=\"fill:#1d112c;\"/>\r\n    <path clip-path=\"url(#p89b978362a)\" d=\"M 153.577277 104.18779 \r\nL 191.840134 104.18779 \r\nL 191.840134 135.250647 \r\nL 153.577277 135.250647 \r\nL 153.577277 104.18779 \r\n\" style=\"fill:#140e26;\"/>\r\n    <path clip-path=\"url(#p89b978362a)\" d=\"M 191.840134 104.18779 \r\nL 230.102991 104.18779 \r\nL 230.102991 135.250647 \r\nL 191.840134 135.250647 \r\nL 191.840134 104.18779 \r\n\" style=\"fill:#faebdd;\"/>\r\n    <path clip-path=\"url(#p89b978362a)\" d=\"M 230.102991 104.18779 \r\nL 268.365848 104.18779 \r\nL 268.365848 135.250647 \r\nL 230.102991 135.250647 \r\nL 230.102991 104.18779 \r\n\" style=\"fill:#8c1d5b;\"/>\r\n    <path clip-path=\"url(#p89b978362a)\" d=\"M 268.365848 104.18779 \r\nL 306.628705 104.18779 \r\nL 306.628705 135.250647 \r\nL 268.365848 135.250647 \r\nL 268.365848 104.18779 \r\n\" style=\"fill:#401b44;\"/>\r\n    <path clip-path=\"url(#p89b978362a)\" d=\"M 306.628705 104.18779 \r\nL 344.891563 104.18779 \r\nL 344.891563 135.250647 \r\nL 306.628705 135.250647 \r\nL 306.628705 104.18779 \r\n\" style=\"fill:#3c1a42;\"/>\r\n    <path clip-path=\"url(#p89b978362a)\" d=\"M 77.051563 135.250647 \r\nL 115.31442 135.250647 \r\nL 115.31442 166.313504 \r\nL 77.051563 166.313504 \r\nL 77.051563 135.250647 \r\n\" style=\"fill:#861e5b;\"/>\r\n    <path clip-path=\"url(#p89b978362a)\" d=\"M 115.31442 135.250647 \r\nL 153.577277 135.250647 \r\nL 153.577277 166.313504 \r\nL 115.31442 166.313504 \r\nL 115.31442 135.250647 \r\n\" style=\"fill:#20122e;\"/>\r\n    <path clip-path=\"url(#p89b978362a)\" d=\"M 153.577277 135.250647 \r\nL 191.840134 135.250647 \r\nL 191.840134 166.313504 \r\nL 153.577277 166.313504 \r\nL 153.577277 135.250647 \r\n\" style=\"fill:#861e5b;\"/>\r\n    <path clip-path=\"url(#p89b978362a)\" d=\"M 191.840134 135.250647 \r\nL 230.102991 135.250647 \r\nL 230.102991 166.313504 \r\nL 191.840134 166.313504 \r\nL 191.840134 135.250647 \r\n\" style=\"fill:#8c1d5b;\"/>\r\n    <path clip-path=\"url(#p89b978362a)\" d=\"M 230.102991 135.250647 \r\nL 268.365848 135.250647 \r\nL 268.365848 166.313504 \r\nL 230.102991 166.313504 \r\nL 230.102991 135.250647 \r\n\" style=\"fill:#faebdd;\"/>\r\n    <path clip-path=\"url(#p89b978362a)\" d=\"M 268.365848 135.250647 \r\nL 306.628705 135.250647 \r\nL 306.628705 166.313504 \r\nL 268.365848 166.313504 \r\nL 268.365848 135.250647 \r\n\" style=\"fill:#431c46;\"/>\r\n    <path clip-path=\"url(#p89b978362a)\" d=\"M 306.628705 135.250647 \r\nL 344.891563 135.250647 \r\nL 344.891563 166.313504 \r\nL 306.628705 166.313504 \r\nL 306.628705 135.250647 \r\n\" style=\"fill:#641f54;\"/>\r\n    <path clip-path=\"url(#p89b978362a)\" d=\"M 77.051563 166.313504 \r\nL 115.31442 166.313504 \r\nL 115.31442 197.376362 \r\nL 77.051563 197.376362 \r\nL 77.051563 166.313504 \r\n\" style=\"fill:#641f54;\"/>\r\n    <path clip-path=\"url(#p89b978362a)\" d=\"M 115.31442 166.313504 \r\nL 153.577277 166.313504 \r\nL 153.577277 197.376362 \r\nL 115.31442 197.376362 \r\nL 115.31442 166.313504 \r\n\" style=\"fill:#20122e;\"/>\r\n    <path clip-path=\"url(#p89b978362a)\" d=\"M 153.577277 166.313504 \r\nL 191.840134 166.313504 \r\nL 191.840134 197.376362 \r\nL 153.577277 197.376362 \r\nL 153.577277 166.313504 \r\n\" style=\"fill:#130d25;\"/>\r\n    <path clip-path=\"url(#p89b978362a)\" d=\"M 191.840134 166.313504 \r\nL 230.102991 166.313504 \r\nL 230.102991 197.376362 \r\nL 191.840134 197.376362 \r\nL 191.840134 166.313504 \r\n\" style=\"fill:#401b44;\"/>\r\n    <path clip-path=\"url(#p89b978362a)\" d=\"M 230.102991 166.313504 \r\nL 268.365848 166.313504 \r\nL 268.365848 197.376362 \r\nL 230.102991 197.376362 \r\nL 230.102991 166.313504 \r\n\" style=\"fill:#431c46;\"/>\r\n    <path clip-path=\"url(#p89b978362a)\" d=\"M 268.365848 166.313504 \r\nL 306.628705 166.313504 \r\nL 306.628705 197.376362 \r\nL 268.365848 197.376362 \r\nL 268.365848 166.313504 \r\n\" style=\"fill:#faebdd;\"/>\r\n    <path clip-path=\"url(#p89b978362a)\" d=\"M 306.628705 166.313504 \r\nL 344.891563 166.313504 \r\nL 344.891563 197.376362 \r\nL 306.628705 197.376362 \r\nL 306.628705 166.313504 \r\n\" style=\"fill:#241432;\"/>\r\n    <path clip-path=\"url(#p89b978362a)\" d=\"M 77.051563 197.376362 \r\nL 115.31442 197.376362 \r\nL 115.31442 228.439219 \r\nL 77.051563 228.439219 \r\nL 77.051563 197.376362 \r\n\" style=\"fill:#5c1e51;\"/>\r\n    <path clip-path=\"url(#p89b978362a)\" d=\"M 115.31442 197.376362 \r\nL 153.577277 197.376362 \r\nL 153.577277 228.439219 \r\nL 115.31442 228.439219 \r\nL 115.31442 197.376362 \r\n\" style=\"fill:#33183c;\"/>\r\n    <path clip-path=\"url(#p89b978362a)\" d=\"M 153.577277 197.376362 \r\nL 191.840134 197.376362 \r\nL 191.840134 228.439219 \r\nL 153.577277 228.439219 \r\nL 153.577277 197.376362 \r\n\" style=\"fill:#34193d;\"/>\r\n    <path clip-path=\"url(#p89b978362a)\" d=\"M 191.840134 197.376362 \r\nL 230.102991 197.376362 \r\nL 230.102991 228.439219 \r\nL 191.840134 228.439219 \r\nL 191.840134 197.376362 \r\n\" style=\"fill:#3c1a42;\"/>\r\n    <path clip-path=\"url(#p89b978362a)\" d=\"M 230.102991 197.376362 \r\nL 268.365848 197.376362 \r\nL 268.365848 228.439219 \r\nL 230.102991 228.439219 \r\nL 230.102991 197.376362 \r\n\" style=\"fill:#641f54;\"/>\r\n    <path clip-path=\"url(#p89b978362a)\" d=\"M 268.365848 197.376362 \r\nL 306.628705 197.376362 \r\nL 306.628705 228.439219 \r\nL 268.365848 228.439219 \r\nL 268.365848 197.376362 \r\n\" style=\"fill:#241432;\"/>\r\n    <path clip-path=\"url(#p89b978362a)\" d=\"M 306.628705 197.376362 \r\nL 344.891563 197.376362 \r\nL 344.891563 228.439219 \r\nL 306.628705 228.439219 \r\nL 306.628705 197.376362 \r\n\" style=\"fill:#faebdd;\"/>\r\n   </g>\r\n   <g id=\"matplotlib.axis_1\">\r\n    <g id=\"xtick_1\">\r\n     <g id=\"line2d_1\">\r\n      <defs>\r\n       <path d=\"M 0 0 \r\nL 0 3.5 \r\n\" id=\"maa84adca0e\" style=\"stroke:#000000;stroke-width:0.8;\"/>\r\n      </defs>\r\n      <g>\r\n       <use style=\"stroke:#000000;stroke-width:0.8;\" x=\"96.182991\" xlink:href=\"#maa84adca0e\" y=\"228.439219\"/>\r\n      </g>\r\n     </g>\r\n     <g id=\"text_1\">\r\n      <!-- N -->\r\n      <g transform=\"translate(98.942366 242.920469)rotate(-90)scale(0.1 -0.1)\">\r\n       <defs>\r\n        <path d=\"M 628 4666 \r\nL 1478 4666 \r\nL 3547 763 \r\nL 3547 4666 \r\nL 4159 4666 \r\nL 4159 0 \r\nL 3309 0 \r\nL 1241 3903 \r\nL 1241 0 \r\nL 628 0 \r\nL 628 4666 \r\nz\r\n\" id=\"DejaVuSans-4e\" transform=\"scale(0.015625)\"/>\r\n       </defs>\r\n       <use xlink:href=\"#DejaVuSans-4e\"/>\r\n      </g>\r\n     </g>\r\n    </g>\r\n    <g id=\"xtick_2\">\r\n     <g id=\"line2d_2\">\r\n      <g>\r\n       <use style=\"stroke:#000000;stroke-width:0.8;\" x=\"134.445848\" xlink:href=\"#maa84adca0e\" y=\"228.439219\"/>\r\n      </g>\r\n     </g>\r\n     <g id=\"text_2\">\r\n      <!-- P -->\r\n      <g transform=\"translate(137.205223 241.468906)rotate(-90)scale(0.1 -0.1)\">\r\n       <defs>\r\n        <path d=\"M 1259 4147 \r\nL 1259 2394 \r\nL 2053 2394 \r\nQ 2494 2394 2734 2622 \r\nQ 2975 2850 2975 3272 \r\nQ 2975 3691 2734 3919 \r\nQ 2494 4147 2053 4147 \r\nL 1259 4147 \r\nz\r\nM 628 4666 \r\nL 2053 4666 \r\nQ 2838 4666 3239 4311 \r\nQ 3641 3956 3641 3272 \r\nQ 3641 2581 3239 2228 \r\nQ 2838 1875 2053 1875 \r\nL 1259 1875 \r\nL 1259 0 \r\nL 628 0 \r\nL 628 4666 \r\nz\r\n\" id=\"DejaVuSans-50\" transform=\"scale(0.015625)\"/>\r\n       </defs>\r\n       <use xlink:href=\"#DejaVuSans-50\"/>\r\n      </g>\r\n     </g>\r\n    </g>\r\n    <g id=\"xtick_3\">\r\n     <g id=\"line2d_3\">\r\n      <g>\r\n       <use style=\"stroke:#000000;stroke-width:0.8;\" x=\"172.708705\" xlink:href=\"#maa84adca0e\" y=\"228.439219\"/>\r\n      </g>\r\n     </g>\r\n     <g id=\"text_3\">\r\n      <!-- K -->\r\n      <g transform=\"translate(175.46808 241.997031)rotate(-90)scale(0.1 -0.1)\">\r\n       <defs>\r\n        <path d=\"M 628 4666 \r\nL 1259 4666 \r\nL 1259 2694 \r\nL 3353 4666 \r\nL 4166 4666 \r\nL 1850 2491 \r\nL 4331 0 \r\nL 3500 0 \r\nL 1259 2247 \r\nL 1259 0 \r\nL 628 0 \r\nL 628 4666 \r\nz\r\n\" id=\"DejaVuSans-4b\" transform=\"scale(0.015625)\"/>\r\n       </defs>\r\n       <use xlink:href=\"#DejaVuSans-4b\"/>\r\n      </g>\r\n     </g>\r\n    </g>\r\n    <g id=\"xtick_4\">\r\n     <g id=\"line2d_4\">\r\n      <g>\r\n       <use style=\"stroke:#000000;stroke-width:0.8;\" x=\"210.971563\" xlink:href=\"#maa84adca0e\" y=\"228.439219\"/>\r\n      </g>\r\n     </g>\r\n     <g id=\"text_4\">\r\n      <!-- temperature -->\r\n      <g transform=\"translate(213.730938 298.290781)rotate(-90)scale(0.1 -0.1)\">\r\n       <defs>\r\n        <path d=\"M 1172 4494 \r\nL 1172 3500 \r\nL 2356 3500 \r\nL 2356 3053 \r\nL 1172 3053 \r\nL 1172 1153 \r\nQ 1172 725 1289 603 \r\nQ 1406 481 1766 481 \r\nL 2356 481 \r\nL 2356 0 \r\nL 1766 0 \r\nQ 1100 0 847 248 \r\nQ 594 497 594 1153 \r\nL 594 3053 \r\nL 172 3053 \r\nL 172 3500 \r\nL 594 3500 \r\nL 594 4494 \r\nL 1172 4494 \r\nz\r\n\" id=\"DejaVuSans-74\" transform=\"scale(0.015625)\"/>\r\n        <path d=\"M 3597 1894 \r\nL 3597 1613 \r\nL 953 1613 \r\nQ 991 1019 1311 708 \r\nQ 1631 397 2203 397 \r\nQ 2534 397 2845 478 \r\nQ 3156 559 3463 722 \r\nL 3463 178 \r\nQ 3153 47 2828 -22 \r\nQ 2503 -91 2169 -91 \r\nQ 1331 -91 842 396 \r\nQ 353 884 353 1716 \r\nQ 353 2575 817 3079 \r\nQ 1281 3584 2069 3584 \r\nQ 2775 3584 3186 3129 \r\nQ 3597 2675 3597 1894 \r\nz\r\nM 3022 2063 \r\nQ 3016 2534 2758 2815 \r\nQ 2500 3097 2075 3097 \r\nQ 1594 3097 1305 2825 \r\nQ 1016 2553 972 2059 \r\nL 3022 2063 \r\nz\r\n\" id=\"DejaVuSans-65\" transform=\"scale(0.015625)\"/>\r\n        <path d=\"M 3328 2828 \r\nQ 3544 3216 3844 3400 \r\nQ 4144 3584 4550 3584 \r\nQ 5097 3584 5394 3201 \r\nQ 5691 2819 5691 2113 \r\nL 5691 0 \r\nL 5113 0 \r\nL 5113 2094 \r\nQ 5113 2597 4934 2840 \r\nQ 4756 3084 4391 3084 \r\nQ 3944 3084 3684 2787 \r\nQ 3425 2491 3425 1978 \r\nL 3425 0 \r\nL 2847 0 \r\nL 2847 2094 \r\nQ 2847 2600 2669 2842 \r\nQ 2491 3084 2119 3084 \r\nQ 1678 3084 1418 2786 \r\nQ 1159 2488 1159 1978 \r\nL 1159 0 \r\nL 581 0 \r\nL 581 3500 \r\nL 1159 3500 \r\nL 1159 2956 \r\nQ 1356 3278 1631 3431 \r\nQ 1906 3584 2284 3584 \r\nQ 2666 3584 2933 3390 \r\nQ 3200 3197 3328 2828 \r\nz\r\n\" id=\"DejaVuSans-6d\" transform=\"scale(0.015625)\"/>\r\n        <path d=\"M 1159 525 \r\nL 1159 -1331 \r\nL 581 -1331 \r\nL 581 3500 \r\nL 1159 3500 \r\nL 1159 2969 \r\nQ 1341 3281 1617 3432 \r\nQ 1894 3584 2278 3584 \r\nQ 2916 3584 3314 3078 \r\nQ 3713 2572 3713 1747 \r\nQ 3713 922 3314 415 \r\nQ 2916 -91 2278 -91 \r\nQ 1894 -91 1617 61 \r\nQ 1341 213 1159 525 \r\nz\r\nM 3116 1747 \r\nQ 3116 2381 2855 2742 \r\nQ 2594 3103 2138 3103 \r\nQ 1681 3103 1420 2742 \r\nQ 1159 2381 1159 1747 \r\nQ 1159 1113 1420 752 \r\nQ 1681 391 2138 391 \r\nQ 2594 391 2855 752 \r\nQ 3116 1113 3116 1747 \r\nz\r\n\" id=\"DejaVuSans-70\" transform=\"scale(0.015625)\"/>\r\n        <path d=\"M 2631 2963 \r\nQ 2534 3019 2420 3045 \r\nQ 2306 3072 2169 3072 \r\nQ 1681 3072 1420 2755 \r\nQ 1159 2438 1159 1844 \r\nL 1159 0 \r\nL 581 0 \r\nL 581 3500 \r\nL 1159 3500 \r\nL 1159 2956 \r\nQ 1341 3275 1631 3429 \r\nQ 1922 3584 2338 3584 \r\nQ 2397 3584 2469 3576 \r\nQ 2541 3569 2628 3553 \r\nL 2631 2963 \r\nz\r\n\" id=\"DejaVuSans-72\" transform=\"scale(0.015625)\"/>\r\n        <path d=\"M 2194 1759 \r\nQ 1497 1759 1228 1600 \r\nQ 959 1441 959 1056 \r\nQ 959 750 1161 570 \r\nQ 1363 391 1709 391 \r\nQ 2188 391 2477 730 \r\nQ 2766 1069 2766 1631 \r\nL 2766 1759 \r\nL 2194 1759 \r\nz\r\nM 3341 1997 \r\nL 3341 0 \r\nL 2766 0 \r\nL 2766 531 \r\nQ 2569 213 2275 61 \r\nQ 1981 -91 1556 -91 \r\nQ 1019 -91 701 211 \r\nQ 384 513 384 1019 \r\nQ 384 1609 779 1909 \r\nQ 1175 2209 1959 2209 \r\nL 2766 2209 \r\nL 2766 2266 \r\nQ 2766 2663 2505 2880 \r\nQ 2244 3097 1772 3097 \r\nQ 1472 3097 1187 3025 \r\nQ 903 2953 641 2809 \r\nL 641 3341 \r\nQ 956 3463 1253 3523 \r\nQ 1550 3584 1831 3584 \r\nQ 2591 3584 2966 3190 \r\nQ 3341 2797 3341 1997 \r\nz\r\n\" id=\"DejaVuSans-61\" transform=\"scale(0.015625)\"/>\r\n        <path d=\"M 544 1381 \r\nL 544 3500 \r\nL 1119 3500 \r\nL 1119 1403 \r\nQ 1119 906 1312 657 \r\nQ 1506 409 1894 409 \r\nQ 2359 409 2629 706 \r\nQ 2900 1003 2900 1516 \r\nL 2900 3500 \r\nL 3475 3500 \r\nL 3475 0 \r\nL 2900 0 \r\nL 2900 538 \r\nQ 2691 219 2414 64 \r\nQ 2138 -91 1772 -91 \r\nQ 1169 -91 856 284 \r\nQ 544 659 544 1381 \r\nz\r\nM 1991 3584 \r\nL 1991 3584 \r\nz\r\n\" id=\"DejaVuSans-75\" transform=\"scale(0.015625)\"/>\r\n       </defs>\r\n       <use xlink:href=\"#DejaVuSans-74\"/>\r\n       <use x=\"39.208984\" xlink:href=\"#DejaVuSans-65\"/>\r\n       <use x=\"100.732422\" xlink:href=\"#DejaVuSans-6d\"/>\r\n       <use x=\"198.144531\" xlink:href=\"#DejaVuSans-70\"/>\r\n       <use x=\"261.621094\" xlink:href=\"#DejaVuSans-65\"/>\r\n       <use x=\"323.144531\" xlink:href=\"#DejaVuSans-72\"/>\r\n       <use x=\"364.257812\" xlink:href=\"#DejaVuSans-61\"/>\r\n       <use x=\"425.537109\" xlink:href=\"#DejaVuSans-74\"/>\r\n       <use x=\"464.746094\" xlink:href=\"#DejaVuSans-75\"/>\r\n       <use x=\"528.125\" xlink:href=\"#DejaVuSans-72\"/>\r\n       <use x=\"566.988281\" xlink:href=\"#DejaVuSans-65\"/>\r\n      </g>\r\n     </g>\r\n    </g>\r\n    <g id=\"xtick_5\">\r\n     <g id=\"line2d_5\">\r\n      <g>\r\n       <use style=\"stroke:#000000;stroke-width:0.8;\" x=\"249.23442\" xlink:href=\"#maa84adca0e\" y=\"228.439219\"/>\r\n      </g>\r\n     </g>\r\n     <g id=\"text_5\">\r\n      <!-- humidity -->\r\n      <g transform=\"translate(251.993795 279.598594)rotate(-90)scale(0.1 -0.1)\">\r\n       <defs>\r\n        <path d=\"M 3513 2113 \r\nL 3513 0 \r\nL 2938 0 \r\nL 2938 2094 \r\nQ 2938 2591 2744 2837 \r\nQ 2550 3084 2163 3084 \r\nQ 1697 3084 1428 2787 \r\nQ 1159 2491 1159 1978 \r\nL 1159 0 \r\nL 581 0 \r\nL 581 4863 \r\nL 1159 4863 \r\nL 1159 2956 \r\nQ 1366 3272 1645 3428 \r\nQ 1925 3584 2291 3584 \r\nQ 2894 3584 3203 3211 \r\nQ 3513 2838 3513 2113 \r\nz\r\n\" id=\"DejaVuSans-68\" transform=\"scale(0.015625)\"/>\r\n        <path d=\"M 603 3500 \r\nL 1178 3500 \r\nL 1178 0 \r\nL 603 0 \r\nL 603 3500 \r\nz\r\nM 603 4863 \r\nL 1178 4863 \r\nL 1178 4134 \r\nL 603 4134 \r\nL 603 4863 \r\nz\r\n\" id=\"DejaVuSans-69\" transform=\"scale(0.015625)\"/>\r\n        <path d=\"M 2906 2969 \r\nL 2906 4863 \r\nL 3481 4863 \r\nL 3481 0 \r\nL 2906 0 \r\nL 2906 525 \r\nQ 2725 213 2448 61 \r\nQ 2172 -91 1784 -91 \r\nQ 1150 -91 751 415 \r\nQ 353 922 353 1747 \r\nQ 353 2572 751 3078 \r\nQ 1150 3584 1784 3584 \r\nQ 2172 3584 2448 3432 \r\nQ 2725 3281 2906 2969 \r\nz\r\nM 947 1747 \r\nQ 947 1113 1208 752 \r\nQ 1469 391 1925 391 \r\nQ 2381 391 2643 752 \r\nQ 2906 1113 2906 1747 \r\nQ 2906 2381 2643 2742 \r\nQ 2381 3103 1925 3103 \r\nQ 1469 3103 1208 2742 \r\nQ 947 2381 947 1747 \r\nz\r\n\" id=\"DejaVuSans-64\" transform=\"scale(0.015625)\"/>\r\n        <path d=\"M 2059 -325 \r\nQ 1816 -950 1584 -1140 \r\nQ 1353 -1331 966 -1331 \r\nL 506 -1331 \r\nL 506 -850 \r\nL 844 -850 \r\nQ 1081 -850 1212 -737 \r\nQ 1344 -625 1503 -206 \r\nL 1606 56 \r\nL 191 3500 \r\nL 800 3500 \r\nL 1894 763 \r\nL 2988 3500 \r\nL 3597 3500 \r\nL 2059 -325 \r\nz\r\n\" id=\"DejaVuSans-79\" transform=\"scale(0.015625)\"/>\r\n       </defs>\r\n       <use xlink:href=\"#DejaVuSans-68\"/>\r\n       <use x=\"63.378906\" xlink:href=\"#DejaVuSans-75\"/>\r\n       <use x=\"126.757812\" xlink:href=\"#DejaVuSans-6d\"/>\r\n       <use x=\"224.169922\" xlink:href=\"#DejaVuSans-69\"/>\r\n       <use x=\"251.953125\" xlink:href=\"#DejaVuSans-64\"/>\r\n       <use x=\"315.429688\" xlink:href=\"#DejaVuSans-69\"/>\r\n       <use x=\"343.212891\" xlink:href=\"#DejaVuSans-74\"/>\r\n       <use x=\"382.421875\" xlink:href=\"#DejaVuSans-79\"/>\r\n      </g>\r\n     </g>\r\n    </g>\r\n    <g id=\"xtick_6\">\r\n     <g id=\"line2d_6\">\r\n      <g>\r\n       <use style=\"stroke:#000000;stroke-width:0.8;\" x=\"287.497277\" xlink:href=\"#maa84adca0e\" y=\"228.439219\"/>\r\n      </g>\r\n     </g>\r\n     <g id=\"text_6\">\r\n      <!-- ph -->\r\n      <g transform=\"translate(290.256652 248.125156)rotate(-90)scale(0.1 -0.1)\">\r\n       <use xlink:href=\"#DejaVuSans-70\"/>\r\n       <use x=\"63.476562\" xlink:href=\"#DejaVuSans-68\"/>\r\n      </g>\r\n     </g>\r\n    </g>\r\n    <g id=\"xtick_7\">\r\n     <g id=\"line2d_7\">\r\n      <g>\r\n       <use style=\"stroke:#000000;stroke-width:0.8;\" x=\"325.760134\" xlink:href=\"#maa84adca0e\" y=\"228.439219\"/>\r\n      </g>\r\n     </g>\r\n     <g id=\"text_7\">\r\n      <!-- rainfall -->\r\n      <g transform=\"translate(328.519509 269.998594)rotate(-90)scale(0.1 -0.1)\">\r\n       <defs>\r\n        <path d=\"M 3513 2113 \r\nL 3513 0 \r\nL 2938 0 \r\nL 2938 2094 \r\nQ 2938 2591 2744 2837 \r\nQ 2550 3084 2163 3084 \r\nQ 1697 3084 1428 2787 \r\nQ 1159 2491 1159 1978 \r\nL 1159 0 \r\nL 581 0 \r\nL 581 3500 \r\nL 1159 3500 \r\nL 1159 2956 \r\nQ 1366 3272 1645 3428 \r\nQ 1925 3584 2291 3584 \r\nQ 2894 3584 3203 3211 \r\nQ 3513 2838 3513 2113 \r\nz\r\n\" id=\"DejaVuSans-6e\" transform=\"scale(0.015625)\"/>\r\n        <path d=\"M 2375 4863 \r\nL 2375 4384 \r\nL 1825 4384 \r\nQ 1516 4384 1395 4259 \r\nQ 1275 4134 1275 3809 \r\nL 1275 3500 \r\nL 2222 3500 \r\nL 2222 3053 \r\nL 1275 3053 \r\nL 1275 0 \r\nL 697 0 \r\nL 697 3053 \r\nL 147 3053 \r\nL 147 3500 \r\nL 697 3500 \r\nL 697 3744 \r\nQ 697 4328 969 4595 \r\nQ 1241 4863 1831 4863 \r\nL 2375 4863 \r\nz\r\n\" id=\"DejaVuSans-66\" transform=\"scale(0.015625)\"/>\r\n        <path d=\"M 603 4863 \r\nL 1178 4863 \r\nL 1178 0 \r\nL 603 0 \r\nL 603 4863 \r\nz\r\n\" id=\"DejaVuSans-6c\" transform=\"scale(0.015625)\"/>\r\n       </defs>\r\n       <use xlink:href=\"#DejaVuSans-72\"/>\r\n       <use x=\"41.113281\" xlink:href=\"#DejaVuSans-61\"/>\r\n       <use x=\"102.392578\" xlink:href=\"#DejaVuSans-69\"/>\r\n       <use x=\"130.175781\" xlink:href=\"#DejaVuSans-6e\"/>\r\n       <use x=\"193.554688\" xlink:href=\"#DejaVuSans-66\"/>\r\n       <use x=\"228.759766\" xlink:href=\"#DejaVuSans-61\"/>\r\n       <use x=\"290.039062\" xlink:href=\"#DejaVuSans-6c\"/>\r\n       <use x=\"317.822266\" xlink:href=\"#DejaVuSans-6c\"/>\r\n      </g>\r\n     </g>\r\n    </g>\r\n   </g>\r\n   <g id=\"matplotlib.axis_2\">\r\n    <g id=\"ytick_1\">\r\n     <g id=\"line2d_8\">\r\n      <defs>\r\n       <path d=\"M 0 0 \r\nL -3.5 0 \r\n\" id=\"m40c7f7cc3b\" style=\"stroke:#000000;stroke-width:0.8;\"/>\r\n      </defs>\r\n      <g>\r\n       <use style=\"stroke:#000000;stroke-width:0.8;\" x=\"77.051563\" xlink:href=\"#m40c7f7cc3b\" y=\"26.530647\"/>\r\n      </g>\r\n     </g>\r\n     <g id=\"text_8\">\r\n      <!-- N -->\r\n      <g transform=\"translate(62.570312 30.329866)scale(0.1 -0.1)\">\r\n       <use xlink:href=\"#DejaVuSans-4e\"/>\r\n      </g>\r\n     </g>\r\n    </g>\r\n    <g id=\"ytick_2\">\r\n     <g id=\"line2d_9\">\r\n      <g>\r\n       <use style=\"stroke:#000000;stroke-width:0.8;\" x=\"77.051563\" xlink:href=\"#m40c7f7cc3b\" y=\"57.593504\"/>\r\n      </g>\r\n     </g>\r\n     <g id=\"text_9\">\r\n      <!-- P -->\r\n      <g transform=\"translate(64.021875 61.392723)scale(0.1 -0.1)\">\r\n       <use xlink:href=\"#DejaVuSans-50\"/>\r\n      </g>\r\n     </g>\r\n    </g>\r\n    <g id=\"ytick_3\">\r\n     <g id=\"line2d_10\">\r\n      <g>\r\n       <use style=\"stroke:#000000;stroke-width:0.8;\" x=\"77.051563\" xlink:href=\"#m40c7f7cc3b\" y=\"88.656362\"/>\r\n      </g>\r\n     </g>\r\n     <g id=\"text_10\">\r\n      <!-- K -->\r\n      <g transform=\"translate(63.49375 92.45558)scale(0.1 -0.1)\">\r\n       <use xlink:href=\"#DejaVuSans-4b\"/>\r\n      </g>\r\n     </g>\r\n    </g>\r\n    <g id=\"ytick_4\">\r\n     <g id=\"line2d_11\">\r\n      <g>\r\n       <use style=\"stroke:#000000;stroke-width:0.8;\" x=\"77.051563\" xlink:href=\"#m40c7f7cc3b\" y=\"119.719219\"/>\r\n      </g>\r\n     </g>\r\n     <g id=\"text_11\">\r\n      <!-- temperature -->\r\n      <g transform=\"translate(7.2 123.518438)scale(0.1 -0.1)\">\r\n       <use xlink:href=\"#DejaVuSans-74\"/>\r\n       <use x=\"39.208984\" xlink:href=\"#DejaVuSans-65\"/>\r\n       <use x=\"100.732422\" xlink:href=\"#DejaVuSans-6d\"/>\r\n       <use x=\"198.144531\" xlink:href=\"#DejaVuSans-70\"/>\r\n       <use x=\"261.621094\" xlink:href=\"#DejaVuSans-65\"/>\r\n       <use x=\"323.144531\" xlink:href=\"#DejaVuSans-72\"/>\r\n       <use x=\"364.257812\" xlink:href=\"#DejaVuSans-61\"/>\r\n       <use x=\"425.537109\" xlink:href=\"#DejaVuSans-74\"/>\r\n       <use x=\"464.746094\" xlink:href=\"#DejaVuSans-75\"/>\r\n       <use x=\"528.125\" xlink:href=\"#DejaVuSans-72\"/>\r\n       <use x=\"566.988281\" xlink:href=\"#DejaVuSans-65\"/>\r\n      </g>\r\n     </g>\r\n    </g>\r\n    <g id=\"ytick_5\">\r\n     <g id=\"line2d_12\">\r\n      <g>\r\n       <use style=\"stroke:#000000;stroke-width:0.8;\" x=\"77.051563\" xlink:href=\"#m40c7f7cc3b\" y=\"150.782076\"/>\r\n      </g>\r\n     </g>\r\n     <g id=\"text_12\">\r\n      <!-- humidity -->\r\n      <g transform=\"translate(25.892187 154.581295)scale(0.1 -0.1)\">\r\n       <use xlink:href=\"#DejaVuSans-68\"/>\r\n       <use x=\"63.378906\" xlink:href=\"#DejaVuSans-75\"/>\r\n       <use x=\"126.757812\" xlink:href=\"#DejaVuSans-6d\"/>\r\n       <use x=\"224.169922\" xlink:href=\"#DejaVuSans-69\"/>\r\n       <use x=\"251.953125\" xlink:href=\"#DejaVuSans-64\"/>\r\n       <use x=\"315.429688\" xlink:href=\"#DejaVuSans-69\"/>\r\n       <use x=\"343.212891\" xlink:href=\"#DejaVuSans-74\"/>\r\n       <use x=\"382.421875\" xlink:href=\"#DejaVuSans-79\"/>\r\n      </g>\r\n     </g>\r\n    </g>\r\n    <g id=\"ytick_6\">\r\n     <g id=\"line2d_13\">\r\n      <g>\r\n       <use style=\"stroke:#000000;stroke-width:0.8;\" x=\"77.051563\" xlink:href=\"#m40c7f7cc3b\" y=\"181.844933\"/>\r\n      </g>\r\n     </g>\r\n     <g id=\"text_13\">\r\n      <!-- ph -->\r\n      <g transform=\"translate(57.365625 185.644152)scale(0.1 -0.1)\">\r\n       <use xlink:href=\"#DejaVuSans-70\"/>\r\n       <use x=\"63.476562\" xlink:href=\"#DejaVuSans-68\"/>\r\n      </g>\r\n     </g>\r\n    </g>\r\n    <g id=\"ytick_7\">\r\n     <g id=\"line2d_14\">\r\n      <g>\r\n       <use style=\"stroke:#000000;stroke-width:0.8;\" x=\"77.051563\" xlink:href=\"#m40c7f7cc3b\" y=\"212.90779\"/>\r\n      </g>\r\n     </g>\r\n     <g id=\"text_14\">\r\n      <!-- rainfall -->\r\n      <g transform=\"translate(35.492188 216.707009)scale(0.1 -0.1)\">\r\n       <use xlink:href=\"#DejaVuSans-72\"/>\r\n       <use x=\"41.113281\" xlink:href=\"#DejaVuSans-61\"/>\r\n       <use x=\"102.392578\" xlink:href=\"#DejaVuSans-69\"/>\r\n       <use x=\"130.175781\" xlink:href=\"#DejaVuSans-6e\"/>\r\n       <use x=\"193.554688\" xlink:href=\"#DejaVuSans-66\"/>\r\n       <use x=\"228.759766\" xlink:href=\"#DejaVuSans-61\"/>\r\n       <use x=\"290.039062\" xlink:href=\"#DejaVuSans-6c\"/>\r\n       <use x=\"317.822266\" xlink:href=\"#DejaVuSans-6c\"/>\r\n      </g>\r\n     </g>\r\n    </g>\r\n   </g>\r\n   <g id=\"text_15\">\r\n    <!-- 1 -->\r\n    <g style=\"fill:#262626;\" transform=\"translate(93.001741 29.290022)scale(0.1 -0.1)\">\r\n     <defs>\r\n      <path d=\"M 794 531 \r\nL 1825 531 \r\nL 1825 4091 \r\nL 703 3866 \r\nL 703 4441 \r\nL 1819 4666 \r\nL 2450 4666 \r\nL 2450 531 \r\nL 3481 531 \r\nL 3481 0 \r\nL 794 0 \r\nL 794 531 \r\nz\r\n\" id=\"DejaVuSans-31\" transform=\"scale(0.015625)\"/>\r\n     </defs>\r\n     <use xlink:href=\"#DejaVuSans-31\"/>\r\n    </g>\r\n   </g>\r\n   <g id=\"text_16\">\r\n    <!-- -0.23 -->\r\n    <g style=\"fill:#ffffff;\" transform=\"translate(121.509129 29.290022)scale(0.1 -0.1)\">\r\n     <defs>\r\n      <path d=\"M 313 2009 \r\nL 1997 2009 \r\nL 1997 1497 \r\nL 313 1497 \r\nL 313 2009 \r\nz\r\n\" id=\"DejaVuSans-2d\" transform=\"scale(0.015625)\"/>\r\n      <path d=\"M 2034 4250 \r\nQ 1547 4250 1301 3770 \r\nQ 1056 3291 1056 2328 \r\nQ 1056 1369 1301 889 \r\nQ 1547 409 2034 409 \r\nQ 2525 409 2770 889 \r\nQ 3016 1369 3016 2328 \r\nQ 3016 3291 2770 3770 \r\nQ 2525 4250 2034 4250 \r\nz\r\nM 2034 4750 \r\nQ 2819 4750 3233 4129 \r\nQ 3647 3509 3647 2328 \r\nQ 3647 1150 3233 529 \r\nQ 2819 -91 2034 -91 \r\nQ 1250 -91 836 529 \r\nQ 422 1150 422 2328 \r\nQ 422 3509 836 4129 \r\nQ 1250 4750 2034 4750 \r\nz\r\n\" id=\"DejaVuSans-30\" transform=\"scale(0.015625)\"/>\r\n      <path d=\"M 684 794 \r\nL 1344 794 \r\nL 1344 0 \r\nL 684 0 \r\nL 684 794 \r\nz\r\n\" id=\"DejaVuSans-2e\" transform=\"scale(0.015625)\"/>\r\n      <path d=\"M 1228 531 \r\nL 3431 531 \r\nL 3431 0 \r\nL 469 0 \r\nL 469 531 \r\nQ 828 903 1448 1529 \r\nQ 2069 2156 2228 2338 \r\nQ 2531 2678 2651 2914 \r\nQ 2772 3150 2772 3378 \r\nQ 2772 3750 2511 3984 \r\nQ 2250 4219 1831 4219 \r\nQ 1534 4219 1204 4116 \r\nQ 875 4013 500 3803 \r\nL 500 4441 \r\nQ 881 4594 1212 4672 \r\nQ 1544 4750 1819 4750 \r\nQ 2544 4750 2975 4387 \r\nQ 3406 4025 3406 3419 \r\nQ 3406 3131 3298 2873 \r\nQ 3191 2616 2906 2266 \r\nQ 2828 2175 2409 1742 \r\nQ 1991 1309 1228 531 \r\nz\r\n\" id=\"DejaVuSans-32\" transform=\"scale(0.015625)\"/>\r\n      <path d=\"M 2597 2516 \r\nQ 3050 2419 3304 2112 \r\nQ 3559 1806 3559 1356 \r\nQ 3559 666 3084 287 \r\nQ 2609 -91 1734 -91 \r\nQ 1441 -91 1130 -33 \r\nQ 819 25 488 141 \r\nL 488 750 \r\nQ 750 597 1062 519 \r\nQ 1375 441 1716 441 \r\nQ 2309 441 2620 675 \r\nQ 2931 909 2931 1356 \r\nQ 2931 1769 2642 2001 \r\nQ 2353 2234 1838 2234 \r\nL 1294 2234 \r\nL 1294 2753 \r\nL 1863 2753 \r\nQ 2328 2753 2575 2939 \r\nQ 2822 3125 2822 3475 \r\nQ 2822 3834 2567 4026 \r\nQ 2313 4219 1838 4219 \r\nQ 1578 4219 1281 4162 \r\nQ 984 4106 628 3988 \r\nL 628 4550 \r\nQ 988 4650 1302 4700 \r\nQ 1616 4750 1894 4750 \r\nQ 2613 4750 3031 4423 \r\nQ 3450 4097 3450 3541 \r\nQ 3450 3153 3228 2886 \r\nQ 3006 2619 2597 2516 \r\nz\r\n\" id=\"DejaVuSans-33\" transform=\"scale(0.015625)\"/>\r\n     </defs>\r\n     <use xlink:href=\"#DejaVuSans-2d\"/>\r\n     <use x=\"36.083984\" xlink:href=\"#DejaVuSans-30\"/>\r\n     <use x=\"99.707031\" xlink:href=\"#DejaVuSans-2e\"/>\r\n     <use x=\"131.494141\" xlink:href=\"#DejaVuSans-32\"/>\r\n     <use x=\"195.117188\" xlink:href=\"#DejaVuSans-33\"/>\r\n    </g>\r\n   </g>\r\n   <g id=\"text_17\">\r\n    <!-- -0.16 -->\r\n    <g style=\"fill:#ffffff;\" transform=\"translate(159.771987 29.290022)scale(0.1 -0.1)\">\r\n     <defs>\r\n      <path d=\"M 2113 2584 \r\nQ 1688 2584 1439 2293 \r\nQ 1191 2003 1191 1497 \r\nQ 1191 994 1439 701 \r\nQ 1688 409 2113 409 \r\nQ 2538 409 2786 701 \r\nQ 3034 994 3034 1497 \r\nQ 3034 2003 2786 2293 \r\nQ 2538 2584 2113 2584 \r\nz\r\nM 3366 4563 \r\nL 3366 3988 \r\nQ 3128 4100 2886 4159 \r\nQ 2644 4219 2406 4219 \r\nQ 1781 4219 1451 3797 \r\nQ 1122 3375 1075 2522 \r\nQ 1259 2794 1537 2939 \r\nQ 1816 3084 2150 3084 \r\nQ 2853 3084 3261 2657 \r\nQ 3669 2231 3669 1497 \r\nQ 3669 778 3244 343 \r\nQ 2819 -91 2113 -91 \r\nQ 1303 -91 875 529 \r\nQ 447 1150 447 2328 \r\nQ 447 3434 972 4092 \r\nQ 1497 4750 2381 4750 \r\nQ 2619 4750 2861 4703 \r\nQ 3103 4656 3366 4563 \r\nz\r\n\" id=\"DejaVuSans-36\" transform=\"scale(0.015625)\"/>\r\n     </defs>\r\n     <use xlink:href=\"#DejaVuSans-2d\"/>\r\n     <use x=\"36.083984\" xlink:href=\"#DejaVuSans-30\"/>\r\n     <use x=\"99.707031\" xlink:href=\"#DejaVuSans-2e\"/>\r\n     <use x=\"131.494141\" xlink:href=\"#DejaVuSans-31\"/>\r\n     <use x=\"195.117188\" xlink:href=\"#DejaVuSans-36\"/>\r\n    </g>\r\n   </g>\r\n   <g id=\"text_18\">\r\n    <!-- 0.0098 -->\r\n    <g style=\"fill:#ffffff;\" transform=\"translate(193.47625 29.290022)scale(0.1 -0.1)\">\r\n     <defs>\r\n      <path d=\"M 703 97 \r\nL 703 672 \r\nQ 941 559 1184 500 \r\nQ 1428 441 1663 441 \r\nQ 2288 441 2617 861 \r\nQ 2947 1281 2994 2138 \r\nQ 2813 1869 2534 1725 \r\nQ 2256 1581 1919 1581 \r\nQ 1219 1581 811 2004 \r\nQ 403 2428 403 3163 \r\nQ 403 3881 828 4315 \r\nQ 1253 4750 1959 4750 \r\nQ 2769 4750 3195 4129 \r\nQ 3622 3509 3622 2328 \r\nQ 3622 1225 3098 567 \r\nQ 2575 -91 1691 -91 \r\nQ 1453 -91 1209 -44 \r\nQ 966 3 703 97 \r\nz\r\nM 1959 2075 \r\nQ 2384 2075 2632 2365 \r\nQ 2881 2656 2881 3163 \r\nQ 2881 3666 2632 3958 \r\nQ 2384 4250 1959 4250 \r\nQ 1534 4250 1286 3958 \r\nQ 1038 3666 1038 3163 \r\nQ 1038 2656 1286 2365 \r\nQ 1534 2075 1959 2075 \r\nz\r\n\" id=\"DejaVuSans-39\" transform=\"scale(0.015625)\"/>\r\n      <path d=\"M 2034 2216 \r\nQ 1584 2216 1326 1975 \r\nQ 1069 1734 1069 1313 \r\nQ 1069 891 1326 650 \r\nQ 1584 409 2034 409 \r\nQ 2484 409 2743 651 \r\nQ 3003 894 3003 1313 \r\nQ 3003 1734 2745 1975 \r\nQ 2488 2216 2034 2216 \r\nz\r\nM 1403 2484 \r\nQ 997 2584 770 2862 \r\nQ 544 3141 544 3541 \r\nQ 544 4100 942 4425 \r\nQ 1341 4750 2034 4750 \r\nQ 2731 4750 3128 4425 \r\nQ 3525 4100 3525 3541 \r\nQ 3525 3141 3298 2862 \r\nQ 3072 2584 2669 2484 \r\nQ 3125 2378 3379 2068 \r\nQ 3634 1759 3634 1313 \r\nQ 3634 634 3220 271 \r\nQ 2806 -91 2034 -91 \r\nQ 1263 -91 848 271 \r\nQ 434 634 434 1313 \r\nQ 434 1759 690 2068 \r\nQ 947 2378 1403 2484 \r\nz\r\nM 1172 3481 \r\nQ 1172 3119 1398 2916 \r\nQ 1625 2713 2034 2713 \r\nQ 2441 2713 2670 2916 \r\nQ 2900 3119 2900 3481 \r\nQ 2900 3844 2670 4047 \r\nQ 2441 4250 2034 4250 \r\nQ 1625 4250 1398 4047 \r\nQ 1172 3844 1172 3481 \r\nz\r\n\" id=\"DejaVuSans-38\" transform=\"scale(0.015625)\"/>\r\n     </defs>\r\n     <use xlink:href=\"#DejaVuSans-30\"/>\r\n     <use x=\"63.623047\" xlink:href=\"#DejaVuSans-2e\"/>\r\n     <use x=\"95.410156\" xlink:href=\"#DejaVuSans-30\"/>\r\n     <use x=\"159.033203\" xlink:href=\"#DejaVuSans-30\"/>\r\n     <use x=\"222.65625\" xlink:href=\"#DejaVuSans-39\"/>\r\n     <use x=\"286.279297\" xlink:href=\"#DejaVuSans-38\"/>\r\n    </g>\r\n   </g>\r\n   <g id=\"text_19\">\r\n    <!-- 0.19 -->\r\n    <g style=\"fill:#ffffff;\" transform=\"translate(238.101607 29.290022)scale(0.1 -0.1)\">\r\n     <use xlink:href=\"#DejaVuSans-30\"/>\r\n     <use x=\"63.623047\" xlink:href=\"#DejaVuSans-2e\"/>\r\n     <use x=\"95.410156\" xlink:href=\"#DejaVuSans-31\"/>\r\n     <use x=\"159.033203\" xlink:href=\"#DejaVuSans-39\"/>\r\n    </g>\r\n   </g>\r\n   <g id=\"text_20\">\r\n    <!-- 0.09 -->\r\n    <g style=\"fill:#ffffff;\" transform=\"translate(276.364464 29.290022)scale(0.1 -0.1)\">\r\n     <use xlink:href=\"#DejaVuSans-30\"/>\r\n     <use x=\"63.623047\" xlink:href=\"#DejaVuSans-2e\"/>\r\n     <use x=\"95.410156\" xlink:href=\"#DejaVuSans-30\"/>\r\n     <use x=\"159.033203\" xlink:href=\"#DejaVuSans-39\"/>\r\n    </g>\r\n   </g>\r\n   <g id=\"text_21\">\r\n    <!-- 0.069 -->\r\n    <g style=\"fill:#ffffff;\" transform=\"translate(311.446071 29.290022)scale(0.1 -0.1)\">\r\n     <use xlink:href=\"#DejaVuSans-30\"/>\r\n     <use x=\"63.623047\" xlink:href=\"#DejaVuSans-2e\"/>\r\n     <use x=\"95.410156\" xlink:href=\"#DejaVuSans-30\"/>\r\n     <use x=\"159.033203\" xlink:href=\"#DejaVuSans-36\"/>\r\n     <use x=\"222.65625\" xlink:href=\"#DejaVuSans-39\"/>\r\n    </g>\r\n   </g>\r\n   <g id=\"text_22\">\r\n    <!-- -0.23 -->\r\n    <g style=\"fill:#ffffff;\" transform=\"translate(83.246272 60.352879)scale(0.1 -0.1)\">\r\n     <use xlink:href=\"#DejaVuSans-2d\"/>\r\n     <use x=\"36.083984\" xlink:href=\"#DejaVuSans-30\"/>\r\n     <use x=\"99.707031\" xlink:href=\"#DejaVuSans-2e\"/>\r\n     <use x=\"131.494141\" xlink:href=\"#DejaVuSans-32\"/>\r\n     <use x=\"195.117188\" xlink:href=\"#DejaVuSans-33\"/>\r\n    </g>\r\n   </g>\r\n   <g id=\"text_23\">\r\n    <!-- 1 -->\r\n    <g style=\"fill:#262626;\" transform=\"translate(131.264598 60.352879)scale(0.1 -0.1)\">\r\n     <use xlink:href=\"#DejaVuSans-31\"/>\r\n    </g>\r\n   </g>\r\n   <g id=\"text_24\">\r\n    <!-- 0.73 -->\r\n    <g style=\"fill:#262626;\" transform=\"translate(161.575893 60.352879)scale(0.1 -0.1)\">\r\n     <defs>\r\n      <path d=\"M 525 4666 \r\nL 3525 4666 \r\nL 3525 4397 \r\nL 1831 0 \r\nL 1172 0 \r\nL 2766 4134 \r\nL 525 4134 \r\nL 525 4666 \r\nz\r\n\" id=\"DejaVuSans-37\" transform=\"scale(0.015625)\"/>\r\n     </defs>\r\n     <use xlink:href=\"#DejaVuSans-30\"/>\r\n     <use x=\"63.623047\" xlink:href=\"#DejaVuSans-2e\"/>\r\n     <use x=\"95.410156\" xlink:href=\"#DejaVuSans-37\"/>\r\n     <use x=\"159.033203\" xlink:href=\"#DejaVuSans-33\"/>\r\n    </g>\r\n   </g>\r\n   <g id=\"text_25\">\r\n    <!-- -0.13 -->\r\n    <g style=\"fill:#ffffff;\" transform=\"translate(198.034844 60.352879)scale(0.1 -0.1)\">\r\n     <use xlink:href=\"#DejaVuSans-2d\"/>\r\n     <use x=\"36.083984\" xlink:href=\"#DejaVuSans-30\"/>\r\n     <use x=\"99.707031\" xlink:href=\"#DejaVuSans-2e\"/>\r\n     <use x=\"131.494141\" xlink:href=\"#DejaVuSans-31\"/>\r\n     <use x=\"195.117188\" xlink:href=\"#DejaVuSans-33\"/>\r\n    </g>\r\n   </g>\r\n   <g id=\"text_26\">\r\n    <!-- -0.12 -->\r\n    <g style=\"fill:#ffffff;\" transform=\"translate(236.297701 60.352879)scale(0.1 -0.1)\">\r\n     <use xlink:href=\"#DejaVuSans-2d\"/>\r\n     <use x=\"36.083984\" xlink:href=\"#DejaVuSans-30\"/>\r\n     <use x=\"99.707031\" xlink:href=\"#DejaVuSans-2e\"/>\r\n     <use x=\"131.494141\" xlink:href=\"#DejaVuSans-31\"/>\r\n     <use x=\"195.117188\" xlink:href=\"#DejaVuSans-32\"/>\r\n    </g>\r\n   </g>\r\n   <g id=\"text_27\">\r\n    <!-- -0.12 -->\r\n    <g style=\"fill:#ffffff;\" transform=\"translate(274.560558 60.352879)scale(0.1 -0.1)\">\r\n     <use xlink:href=\"#DejaVuSans-2d\"/>\r\n     <use x=\"36.083984\" xlink:href=\"#DejaVuSans-30\"/>\r\n     <use x=\"99.707031\" xlink:href=\"#DejaVuSans-2e\"/>\r\n     <use x=\"131.494141\" xlink:href=\"#DejaVuSans-31\"/>\r\n     <use x=\"195.117188\" xlink:href=\"#DejaVuSans-32\"/>\r\n    </g>\r\n   </g>\r\n   <g id=\"text_28\">\r\n    <!-- -0.058 -->\r\n    <g style=\"fill:#ffffff;\" transform=\"translate(309.642165 60.352879)scale(0.1 -0.1)\">\r\n     <defs>\r\n      <path d=\"M 691 4666 \r\nL 3169 4666 \r\nL 3169 4134 \r\nL 1269 4134 \r\nL 1269 2991 \r\nQ 1406 3038 1543 3061 \r\nQ 1681 3084 1819 3084 \r\nQ 2600 3084 3056 2656 \r\nQ 3513 2228 3513 1497 \r\nQ 3513 744 3044 326 \r\nQ 2575 -91 1722 -91 \r\nQ 1428 -91 1123 -41 \r\nQ 819 9 494 109 \r\nL 494 744 \r\nQ 775 591 1075 516 \r\nQ 1375 441 1709 441 \r\nQ 2250 441 2565 725 \r\nQ 2881 1009 2881 1497 \r\nQ 2881 1984 2565 2268 \r\nQ 2250 2553 1709 2553 \r\nQ 1456 2553 1204 2497 \r\nQ 953 2441 691 2322 \r\nL 691 4666 \r\nz\r\n\" id=\"DejaVuSans-35\" transform=\"scale(0.015625)\"/>\r\n     </defs>\r\n     <use xlink:href=\"#DejaVuSans-2d\"/>\r\n     <use x=\"36.083984\" xlink:href=\"#DejaVuSans-30\"/>\r\n     <use x=\"99.707031\" xlink:href=\"#DejaVuSans-2e\"/>\r\n     <use x=\"131.494141\" xlink:href=\"#DejaVuSans-30\"/>\r\n     <use x=\"195.117188\" xlink:href=\"#DejaVuSans-35\"/>\r\n     <use x=\"258.740234\" xlink:href=\"#DejaVuSans-38\"/>\r\n    </g>\r\n   </g>\r\n   <g id=\"text_29\">\r\n    <!-- -0.16 -->\r\n    <g style=\"fill:#ffffff;\" transform=\"translate(83.246272 91.415737)scale(0.1 -0.1)\">\r\n     <use xlink:href=\"#DejaVuSans-2d\"/>\r\n     <use x=\"36.083984\" xlink:href=\"#DejaVuSans-30\"/>\r\n     <use x=\"99.707031\" xlink:href=\"#DejaVuSans-2e\"/>\r\n     <use x=\"131.494141\" xlink:href=\"#DejaVuSans-31\"/>\r\n     <use x=\"195.117188\" xlink:href=\"#DejaVuSans-36\"/>\r\n    </g>\r\n   </g>\r\n   <g id=\"text_30\">\r\n    <!-- 0.73 -->\r\n    <g style=\"fill:#262626;\" transform=\"translate(123.313036 91.415737)scale(0.1 -0.1)\">\r\n     <use xlink:href=\"#DejaVuSans-30\"/>\r\n     <use x=\"63.623047\" xlink:href=\"#DejaVuSans-2e\"/>\r\n     <use x=\"95.410156\" xlink:href=\"#DejaVuSans-37\"/>\r\n     <use x=\"159.033203\" xlink:href=\"#DejaVuSans-33\"/>\r\n    </g>\r\n   </g>\r\n   <g id=\"text_31\">\r\n    <!-- 1 -->\r\n    <g style=\"fill:#262626;\" transform=\"translate(169.527455 91.415737)scale(0.1 -0.1)\">\r\n     <use xlink:href=\"#DejaVuSans-31\"/>\r\n    </g>\r\n   </g>\r\n   <g id=\"text_32\">\r\n    <!-- -0.16 -->\r\n    <g style=\"fill:#ffffff;\" transform=\"translate(198.034844 91.415737)scale(0.1 -0.1)\">\r\n     <use xlink:href=\"#DejaVuSans-2d\"/>\r\n     <use x=\"36.083984\" xlink:href=\"#DejaVuSans-30\"/>\r\n     <use x=\"99.707031\" xlink:href=\"#DejaVuSans-2e\"/>\r\n     <use x=\"131.494141\" xlink:href=\"#DejaVuSans-31\"/>\r\n     <use x=\"195.117188\" xlink:href=\"#DejaVuSans-36\"/>\r\n    </g>\r\n   </g>\r\n   <g id=\"text_33\">\r\n    <!-- 0.19 -->\r\n    <g style=\"fill:#ffffff;\" transform=\"translate(238.101607 91.415737)scale(0.1 -0.1)\">\r\n     <use xlink:href=\"#DejaVuSans-30\"/>\r\n     <use x=\"63.623047\" xlink:href=\"#DejaVuSans-2e\"/>\r\n     <use x=\"95.410156\" xlink:href=\"#DejaVuSans-31\"/>\r\n     <use x=\"159.033203\" xlink:href=\"#DejaVuSans-39\"/>\r\n    </g>\r\n   </g>\r\n   <g id=\"text_34\">\r\n    <!-- -0.17 -->\r\n    <g style=\"fill:#ffffff;\" transform=\"translate(274.560558 91.415737)scale(0.1 -0.1)\">\r\n     <use xlink:href=\"#DejaVuSans-2d\"/>\r\n     <use x=\"36.083984\" xlink:href=\"#DejaVuSans-30\"/>\r\n     <use x=\"99.707031\" xlink:href=\"#DejaVuSans-2e\"/>\r\n     <use x=\"131.494141\" xlink:href=\"#DejaVuSans-31\"/>\r\n     <use x=\"195.117188\" xlink:href=\"#DejaVuSans-37\"/>\r\n    </g>\r\n   </g>\r\n   <g id=\"text_35\">\r\n    <!-- -0.055 -->\r\n    <g style=\"fill:#ffffff;\" transform=\"translate(309.642165 91.415737)scale(0.1 -0.1)\">\r\n     <use xlink:href=\"#DejaVuSans-2d\"/>\r\n     <use x=\"36.083984\" xlink:href=\"#DejaVuSans-30\"/>\r\n     <use x=\"99.707031\" xlink:href=\"#DejaVuSans-2e\"/>\r\n     <use x=\"131.494141\" xlink:href=\"#DejaVuSans-30\"/>\r\n     <use x=\"195.117188\" xlink:href=\"#DejaVuSans-35\"/>\r\n     <use x=\"258.740234\" xlink:href=\"#DejaVuSans-35\"/>\r\n    </g>\r\n   </g>\r\n   <g id=\"text_36\">\r\n    <!-- 0.0098 -->\r\n    <g style=\"fill:#ffffff;\" transform=\"translate(78.687679 122.478594)scale(0.1 -0.1)\">\r\n     <use xlink:href=\"#DejaVuSans-30\"/>\r\n     <use x=\"63.623047\" xlink:href=\"#DejaVuSans-2e\"/>\r\n     <use x=\"95.410156\" xlink:href=\"#DejaVuSans-30\"/>\r\n     <use x=\"159.033203\" xlink:href=\"#DejaVuSans-30\"/>\r\n     <use x=\"222.65625\" xlink:href=\"#DejaVuSans-39\"/>\r\n     <use x=\"286.279297\" xlink:href=\"#DejaVuSans-38\"/>\r\n    </g>\r\n   </g>\r\n   <g id=\"text_37\">\r\n    <!-- -0.13 -->\r\n    <g style=\"fill:#ffffff;\" transform=\"translate(121.509129 122.478594)scale(0.1 -0.1)\">\r\n     <use xlink:href=\"#DejaVuSans-2d\"/>\r\n     <use x=\"36.083984\" xlink:href=\"#DejaVuSans-30\"/>\r\n     <use x=\"99.707031\" xlink:href=\"#DejaVuSans-2e\"/>\r\n     <use x=\"131.494141\" xlink:href=\"#DejaVuSans-31\"/>\r\n     <use x=\"195.117188\" xlink:href=\"#DejaVuSans-33\"/>\r\n    </g>\r\n   </g>\r\n   <g id=\"text_38\">\r\n    <!-- -0.16 -->\r\n    <g style=\"fill:#ffffff;\" transform=\"translate(159.771987 122.478594)scale(0.1 -0.1)\">\r\n     <use xlink:href=\"#DejaVuSans-2d\"/>\r\n     <use x=\"36.083984\" xlink:href=\"#DejaVuSans-30\"/>\r\n     <use x=\"99.707031\" xlink:href=\"#DejaVuSans-2e\"/>\r\n     <use x=\"131.494141\" xlink:href=\"#DejaVuSans-31\"/>\r\n     <use x=\"195.117188\" xlink:href=\"#DejaVuSans-36\"/>\r\n    </g>\r\n   </g>\r\n   <g id=\"text_39\">\r\n    <!-- 1 -->\r\n    <g style=\"fill:#262626;\" transform=\"translate(207.790312 122.478594)scale(0.1 -0.1)\">\r\n     <use xlink:href=\"#DejaVuSans-31\"/>\r\n    </g>\r\n   </g>\r\n   <g id=\"text_40\">\r\n    <!-- 0.21 -->\r\n    <g style=\"fill:#ffffff;\" transform=\"translate(238.101607 122.478594)scale(0.1 -0.1)\">\r\n     <use xlink:href=\"#DejaVuSans-30\"/>\r\n     <use x=\"63.623047\" xlink:href=\"#DejaVuSans-2e\"/>\r\n     <use x=\"95.410156\" xlink:href=\"#DejaVuSans-32\"/>\r\n     <use x=\"159.033203\" xlink:href=\"#DejaVuSans-31\"/>\r\n    </g>\r\n   </g>\r\n   <g id=\"text_41\">\r\n    <!-- -0.018 -->\r\n    <g style=\"fill:#ffffff;\" transform=\"translate(271.379308 122.478594)scale(0.1 -0.1)\">\r\n     <use xlink:href=\"#DejaVuSans-2d\"/>\r\n     <use x=\"36.083984\" xlink:href=\"#DejaVuSans-30\"/>\r\n     <use x=\"99.707031\" xlink:href=\"#DejaVuSans-2e\"/>\r\n     <use x=\"131.494141\" xlink:href=\"#DejaVuSans-30\"/>\r\n     <use x=\"195.117188\" xlink:href=\"#DejaVuSans-31\"/>\r\n     <use x=\"258.740234\" xlink:href=\"#DejaVuSans-38\"/>\r\n    </g>\r\n   </g>\r\n   <g id=\"text_42\">\r\n    <!-- -0.03 -->\r\n    <g style=\"fill:#ffffff;\" transform=\"translate(312.823415 122.478594)scale(0.1 -0.1)\">\r\n     <use xlink:href=\"#DejaVuSans-2d\"/>\r\n     <use x=\"36.083984\" xlink:href=\"#DejaVuSans-30\"/>\r\n     <use x=\"99.707031\" xlink:href=\"#DejaVuSans-2e\"/>\r\n     <use x=\"131.494141\" xlink:href=\"#DejaVuSans-30\"/>\r\n     <use x=\"195.117188\" xlink:href=\"#DejaVuSans-33\"/>\r\n    </g>\r\n   </g>\r\n   <g id=\"text_43\">\r\n    <!-- 0.19 -->\r\n    <g style=\"fill:#ffffff;\" transform=\"translate(85.050179 153.541451)scale(0.1 -0.1)\">\r\n     <use xlink:href=\"#DejaVuSans-30\"/>\r\n     <use x=\"63.623047\" xlink:href=\"#DejaVuSans-2e\"/>\r\n     <use x=\"95.410156\" xlink:href=\"#DejaVuSans-31\"/>\r\n     <use x=\"159.033203\" xlink:href=\"#DejaVuSans-39\"/>\r\n    </g>\r\n   </g>\r\n   <g id=\"text_44\">\r\n    <!-- -0.12 -->\r\n    <g style=\"fill:#ffffff;\" transform=\"translate(121.509129 153.541451)scale(0.1 -0.1)\">\r\n     <use xlink:href=\"#DejaVuSans-2d\"/>\r\n     <use x=\"36.083984\" xlink:href=\"#DejaVuSans-30\"/>\r\n     <use x=\"99.707031\" xlink:href=\"#DejaVuSans-2e\"/>\r\n     <use x=\"131.494141\" xlink:href=\"#DejaVuSans-31\"/>\r\n     <use x=\"195.117188\" xlink:href=\"#DejaVuSans-32\"/>\r\n    </g>\r\n   </g>\r\n   <g id=\"text_45\">\r\n    <!-- 0.19 -->\r\n    <g style=\"fill:#ffffff;\" transform=\"translate(161.575893 153.541451)scale(0.1 -0.1)\">\r\n     <use xlink:href=\"#DejaVuSans-30\"/>\r\n     <use x=\"63.623047\" xlink:href=\"#DejaVuSans-2e\"/>\r\n     <use x=\"95.410156\" xlink:href=\"#DejaVuSans-31\"/>\r\n     <use x=\"159.033203\" xlink:href=\"#DejaVuSans-39\"/>\r\n    </g>\r\n   </g>\r\n   <g id=\"text_46\">\r\n    <!-- 0.21 -->\r\n    <g style=\"fill:#ffffff;\" transform=\"translate(199.83875 153.541451)scale(0.1 -0.1)\">\r\n     <use xlink:href=\"#DejaVuSans-30\"/>\r\n     <use x=\"63.623047\" xlink:href=\"#DejaVuSans-2e\"/>\r\n     <use x=\"95.410156\" xlink:href=\"#DejaVuSans-32\"/>\r\n     <use x=\"159.033203\" xlink:href=\"#DejaVuSans-31\"/>\r\n    </g>\r\n   </g>\r\n   <g id=\"text_47\">\r\n    <!-- 1 -->\r\n    <g style=\"fill:#262626;\" transform=\"translate(246.05317 153.541451)scale(0.1 -0.1)\">\r\n     <use xlink:href=\"#DejaVuSans-31\"/>\r\n    </g>\r\n   </g>\r\n   <g id=\"text_48\">\r\n    <!-- -0.0085 -->\r\n    <g style=\"fill:#ffffff;\" transform=\"translate(268.198058 153.541451)scale(0.1 -0.1)\">\r\n     <use xlink:href=\"#DejaVuSans-2d\"/>\r\n     <use x=\"36.083984\" xlink:href=\"#DejaVuSans-30\"/>\r\n     <use x=\"99.707031\" xlink:href=\"#DejaVuSans-2e\"/>\r\n     <use x=\"131.494141\" xlink:href=\"#DejaVuSans-30\"/>\r\n     <use x=\"195.117188\" xlink:href=\"#DejaVuSans-30\"/>\r\n     <use x=\"258.740234\" xlink:href=\"#DejaVuSans-38\"/>\r\n     <use x=\"322.363281\" xlink:href=\"#DejaVuSans-35\"/>\r\n    </g>\r\n   </g>\r\n   <g id=\"text_49\">\r\n    <!-- 0.094 -->\r\n    <g style=\"fill:#ffffff;\" transform=\"translate(311.446071 153.541451)scale(0.1 -0.1)\">\r\n     <defs>\r\n      <path d=\"M 2419 4116 \r\nL 825 1625 \r\nL 2419 1625 \r\nL 2419 4116 \r\nz\r\nM 2253 4666 \r\nL 3047 4666 \r\nL 3047 1625 \r\nL 3713 1625 \r\nL 3713 1100 \r\nL 3047 1100 \r\nL 3047 0 \r\nL 2419 0 \r\nL 2419 1100 \r\nL 313 1100 \r\nL 313 1709 \r\nL 2253 4666 \r\nz\r\n\" id=\"DejaVuSans-34\" transform=\"scale(0.015625)\"/>\r\n     </defs>\r\n     <use xlink:href=\"#DejaVuSans-30\"/>\r\n     <use x=\"63.623047\" xlink:href=\"#DejaVuSans-2e\"/>\r\n     <use x=\"95.410156\" xlink:href=\"#DejaVuSans-30\"/>\r\n     <use x=\"159.033203\" xlink:href=\"#DejaVuSans-39\"/>\r\n     <use x=\"222.65625\" xlink:href=\"#DejaVuSans-34\"/>\r\n    </g>\r\n   </g>\r\n   <g id=\"text_50\">\r\n    <!-- 0.09 -->\r\n    <g style=\"fill:#ffffff;\" transform=\"translate(85.050179 184.604308)scale(0.1 -0.1)\">\r\n     <use xlink:href=\"#DejaVuSans-30\"/>\r\n     <use x=\"63.623047\" xlink:href=\"#DejaVuSans-2e\"/>\r\n     <use x=\"95.410156\" xlink:href=\"#DejaVuSans-30\"/>\r\n     <use x=\"159.033203\" xlink:href=\"#DejaVuSans-39\"/>\r\n    </g>\r\n   </g>\r\n   <g id=\"text_51\">\r\n    <!-- -0.12 -->\r\n    <g style=\"fill:#ffffff;\" transform=\"translate(121.509129 184.604308)scale(0.1 -0.1)\">\r\n     <use xlink:href=\"#DejaVuSans-2d\"/>\r\n     <use x=\"36.083984\" xlink:href=\"#DejaVuSans-30\"/>\r\n     <use x=\"99.707031\" xlink:href=\"#DejaVuSans-2e\"/>\r\n     <use x=\"131.494141\" xlink:href=\"#DejaVuSans-31\"/>\r\n     <use x=\"195.117188\" xlink:href=\"#DejaVuSans-32\"/>\r\n    </g>\r\n   </g>\r\n   <g id=\"text_52\">\r\n    <!-- -0.17 -->\r\n    <g style=\"fill:#ffffff;\" transform=\"translate(159.771987 184.604308)scale(0.1 -0.1)\">\r\n     <use xlink:href=\"#DejaVuSans-2d\"/>\r\n     <use x=\"36.083984\" xlink:href=\"#DejaVuSans-30\"/>\r\n     <use x=\"99.707031\" xlink:href=\"#DejaVuSans-2e\"/>\r\n     <use x=\"131.494141\" xlink:href=\"#DejaVuSans-31\"/>\r\n     <use x=\"195.117188\" xlink:href=\"#DejaVuSans-37\"/>\r\n    </g>\r\n   </g>\r\n   <g id=\"text_53\">\r\n    <!-- -0.018 -->\r\n    <g style=\"fill:#ffffff;\" transform=\"translate(194.853594 184.604308)scale(0.1 -0.1)\">\r\n     <use xlink:href=\"#DejaVuSans-2d\"/>\r\n     <use x=\"36.083984\" xlink:href=\"#DejaVuSans-30\"/>\r\n     <use x=\"99.707031\" xlink:href=\"#DejaVuSans-2e\"/>\r\n     <use x=\"131.494141\" xlink:href=\"#DejaVuSans-30\"/>\r\n     <use x=\"195.117188\" xlink:href=\"#DejaVuSans-31\"/>\r\n     <use x=\"258.740234\" xlink:href=\"#DejaVuSans-38\"/>\r\n    </g>\r\n   </g>\r\n   <g id=\"text_54\">\r\n    <!-- -0.0085 -->\r\n    <g style=\"fill:#ffffff;\" transform=\"translate(229.935201 184.604308)scale(0.1 -0.1)\">\r\n     <use xlink:href=\"#DejaVuSans-2d\"/>\r\n     <use x=\"36.083984\" xlink:href=\"#DejaVuSans-30\"/>\r\n     <use x=\"99.707031\" xlink:href=\"#DejaVuSans-2e\"/>\r\n     <use x=\"131.494141\" xlink:href=\"#DejaVuSans-30\"/>\r\n     <use x=\"195.117188\" xlink:href=\"#DejaVuSans-30\"/>\r\n     <use x=\"258.740234\" xlink:href=\"#DejaVuSans-38\"/>\r\n     <use x=\"322.363281\" xlink:href=\"#DejaVuSans-35\"/>\r\n    </g>\r\n   </g>\r\n   <g id=\"text_55\">\r\n    <!-- 1 -->\r\n    <g style=\"fill:#262626;\" transform=\"translate(284.316027 184.604308)scale(0.1 -0.1)\">\r\n     <use xlink:href=\"#DejaVuSans-31\"/>\r\n    </g>\r\n   </g>\r\n   <g id=\"text_56\">\r\n    <!-- -0.11 -->\r\n    <g style=\"fill:#ffffff;\" transform=\"translate(312.823415 184.604308)scale(0.1 -0.1)\">\r\n     <use xlink:href=\"#DejaVuSans-2d\"/>\r\n     <use x=\"36.083984\" xlink:href=\"#DejaVuSans-30\"/>\r\n     <use x=\"99.707031\" xlink:href=\"#DejaVuSans-2e\"/>\r\n     <use x=\"131.494141\" xlink:href=\"#DejaVuSans-31\"/>\r\n     <use x=\"195.117188\" xlink:href=\"#DejaVuSans-31\"/>\r\n    </g>\r\n   </g>\r\n   <g id=\"text_57\">\r\n    <!-- 0.069 -->\r\n    <g style=\"fill:#ffffff;\" transform=\"translate(81.868929 215.667165)scale(0.1 -0.1)\">\r\n     <use xlink:href=\"#DejaVuSans-30\"/>\r\n     <use x=\"63.623047\" xlink:href=\"#DejaVuSans-2e\"/>\r\n     <use x=\"95.410156\" xlink:href=\"#DejaVuSans-30\"/>\r\n     <use x=\"159.033203\" xlink:href=\"#DejaVuSans-36\"/>\r\n     <use x=\"222.65625\" xlink:href=\"#DejaVuSans-39\"/>\r\n    </g>\r\n   </g>\r\n   <g id=\"text_58\">\r\n    <!-- -0.058 -->\r\n    <g style=\"fill:#ffffff;\" transform=\"translate(118.327879 215.667165)scale(0.1 -0.1)\">\r\n     <use xlink:href=\"#DejaVuSans-2d\"/>\r\n     <use x=\"36.083984\" xlink:href=\"#DejaVuSans-30\"/>\r\n     <use x=\"99.707031\" xlink:href=\"#DejaVuSans-2e\"/>\r\n     <use x=\"131.494141\" xlink:href=\"#DejaVuSans-30\"/>\r\n     <use x=\"195.117188\" xlink:href=\"#DejaVuSans-35\"/>\r\n     <use x=\"258.740234\" xlink:href=\"#DejaVuSans-38\"/>\r\n    </g>\r\n   </g>\r\n   <g id=\"text_59\">\r\n    <!-- -0.055 -->\r\n    <g style=\"fill:#ffffff;\" transform=\"translate(156.590737 215.667165)scale(0.1 -0.1)\">\r\n     <use xlink:href=\"#DejaVuSans-2d\"/>\r\n     <use x=\"36.083984\" xlink:href=\"#DejaVuSans-30\"/>\r\n     <use x=\"99.707031\" xlink:href=\"#DejaVuSans-2e\"/>\r\n     <use x=\"131.494141\" xlink:href=\"#DejaVuSans-30\"/>\r\n     <use x=\"195.117188\" xlink:href=\"#DejaVuSans-35\"/>\r\n     <use x=\"258.740234\" xlink:href=\"#DejaVuSans-35\"/>\r\n    </g>\r\n   </g>\r\n   <g id=\"text_60\">\r\n    <!-- -0.03 -->\r\n    <g style=\"fill:#ffffff;\" transform=\"translate(198.034844 215.667165)scale(0.1 -0.1)\">\r\n     <use xlink:href=\"#DejaVuSans-2d\"/>\r\n     <use x=\"36.083984\" xlink:href=\"#DejaVuSans-30\"/>\r\n     <use x=\"99.707031\" xlink:href=\"#DejaVuSans-2e\"/>\r\n     <use x=\"131.494141\" xlink:href=\"#DejaVuSans-30\"/>\r\n     <use x=\"195.117188\" xlink:href=\"#DejaVuSans-33\"/>\r\n    </g>\r\n   </g>\r\n   <g id=\"text_61\">\r\n    <!-- 0.094 -->\r\n    <g style=\"fill:#ffffff;\" transform=\"translate(234.920357 215.667165)scale(0.1 -0.1)\">\r\n     <use xlink:href=\"#DejaVuSans-30\"/>\r\n     <use x=\"63.623047\" xlink:href=\"#DejaVuSans-2e\"/>\r\n     <use x=\"95.410156\" xlink:href=\"#DejaVuSans-30\"/>\r\n     <use x=\"159.033203\" xlink:href=\"#DejaVuSans-39\"/>\r\n     <use x=\"222.65625\" xlink:href=\"#DejaVuSans-34\"/>\r\n    </g>\r\n   </g>\r\n   <g id=\"text_62\">\r\n    <!-- -0.11 -->\r\n    <g style=\"fill:#ffffff;\" transform=\"translate(274.560558 215.667165)scale(0.1 -0.1)\">\r\n     <use xlink:href=\"#DejaVuSans-2d\"/>\r\n     <use x=\"36.083984\" xlink:href=\"#DejaVuSans-30\"/>\r\n     <use x=\"99.707031\" xlink:href=\"#DejaVuSans-2e\"/>\r\n     <use x=\"131.494141\" xlink:href=\"#DejaVuSans-31\"/>\r\n     <use x=\"195.117188\" xlink:href=\"#DejaVuSans-31\"/>\r\n    </g>\r\n   </g>\r\n   <g id=\"text_63\">\r\n    <!-- 1 -->\r\n    <g style=\"fill:#262626;\" transform=\"translate(322.578884 215.667165)scale(0.1 -0.1)\">\r\n     <use xlink:href=\"#DejaVuSans-31\"/>\r\n    </g>\r\n   </g>\r\n  </g>\r\n  <g id=\"axes_2\">\r\n   <g id=\"patch_3\">\r\n    <path d=\"M 361.631563 228.439219 \r\nL 372.503563 228.439219 \r\nL 372.503563 10.999219 \r\nL 361.631563 10.999219 \r\nz\r\n\" style=\"fill:#ffffff;\"/>\r\n   </g>\r\n   <g id=\"patch_4\">\r\n    <path clip-path=\"url(#pfcc403166e)\" d=\"M 361.631563 228.439219 \r\nL 361.631563 227.589844 \r\nL 361.631563 11.848594 \r\nL 361.631563 10.999219 \r\nL 372.503563 10.999219 \r\nL 372.503563 11.848594 \r\nL 372.503563 227.589844 \r\nL 372.503563 228.439219 \r\nL 372.503563 228.439219 \r\nz\r\n\" style=\"fill:#ffffff;stroke:#ffffff;stroke-linejoin:miter;stroke-width:0.01;\"/>\r\n   </g>\r\n   <image height=\"217\" id=\"imagecdb35554d2\" transform=\"scale(1 -1)translate(0 -217)\" width=\"11\" x=\"362\" xlink:href=\"data:image/png;base64,\r\niVBORw0KGgoAAAANSUhEUgAAAAsAAADZCAYAAAD2WsoCAAABVElEQVR4nO3aQQ4CMQxD0aYtl+D+94Qty7yFpYwEa8tyfp3CjKjzen9W83Orq1xr3aq+/O7aMWcQ14o5i/gIjVyMLTRyAw7JjM4woNHIVXSGs5V/ynHLgGtE+W3AtlS7MYSGlb8tjXaDYiQ3BWLkBsQTHFL+WOtizjl0d8jCiphonJjzkAF3+1nCaZA4tt0iPkIDBxSxxPjT+BWPodFX24C5e+N+IDNyTtEocu4br3tizphZxHAqFuMUxYgViZxFfKB25oyZ29pkjA2X3a0h6GAJMUaOhqFra9EZB0zFIOcV68a+EsNojHAuuHQ1Rsp5ibPFEBo4YEpMb3ssBjzkJQ+FxPL+WX6s3drinMts6MT55I77geiMBsUYQaNou41zTGx3HZW//00/JrPFGEJjRpFowFzmmHOVbPd9Io3Y9SXdMM4zurHOa0IM+pdF8q4TGs8b8Ave0i0eizldKwAAAABJRU5ErkJggg==\" y=\"-11\"/>\r\n   <g id=\"matplotlib.axis_3\"/>\r\n   <g id=\"matplotlib.axis_4\">\r\n    <g id=\"ytick_8\">\r\n     <g id=\"line2d_15\">\r\n      <defs>\r\n       <path d=\"M 0 0 \r\nL 3.5 0 \r\n\" id=\"m8aca48866e\" style=\"stroke:#000000;stroke-width:0.8;\"/>\r\n      </defs>\r\n      <g>\r\n       <use style=\"stroke:#000000;stroke-width:0.8;\" x=\"372.503563\" xlink:href=\"#m8aca48866e\" y=\"223.884393\"/>\r\n      </g>\r\n     </g>\r\n     <g id=\"text_64\">\r\n      <!-- −0.2 -->\r\n      <g transform=\"translate(379.503563 227.683612)scale(0.1 -0.1)\">\r\n       <defs>\r\n        <path d=\"M 678 2272 \r\nL 4684 2272 \r\nL 4684 1741 \r\nL 678 1741 \r\nL 678 2272 \r\nz\r\n\" id=\"DejaVuSans-2212\" transform=\"scale(0.015625)\"/>\r\n       </defs>\r\n       <use xlink:href=\"#DejaVuSans-2212\"/>\r\n       <use x=\"83.789062\" xlink:href=\"#DejaVuSans-30\"/>\r\n       <use x=\"147.412109\" xlink:href=\"#DejaVuSans-2e\"/>\r\n       <use x=\"179.199219\" xlink:href=\"#DejaVuSans-32\"/>\r\n      </g>\r\n     </g>\r\n    </g>\r\n    <g id=\"ytick_9\">\r\n     <g id=\"line2d_16\">\r\n      <g>\r\n       <use style=\"stroke:#000000;stroke-width:0.8;\" x=\"372.503563\" xlink:href=\"#m8aca48866e\" y=\"188.403531\"/>\r\n      </g>\r\n     </g>\r\n     <g id=\"text_65\">\r\n      <!-- 0.0 -->\r\n      <g transform=\"translate(379.503563 192.20275)scale(0.1 -0.1)\">\r\n       <use xlink:href=\"#DejaVuSans-30\"/>\r\n       <use x=\"63.623047\" xlink:href=\"#DejaVuSans-2e\"/>\r\n       <use x=\"95.410156\" xlink:href=\"#DejaVuSans-30\"/>\r\n      </g>\r\n     </g>\r\n    </g>\r\n    <g id=\"ytick_10\">\r\n     <g id=\"line2d_17\">\r\n      <g>\r\n       <use style=\"stroke:#000000;stroke-width:0.8;\" x=\"372.503563\" xlink:href=\"#m8aca48866e\" y=\"152.922668\"/>\r\n      </g>\r\n     </g>\r\n     <g id=\"text_66\">\r\n      <!-- 0.2 -->\r\n      <g transform=\"translate(379.503563 156.721887)scale(0.1 -0.1)\">\r\n       <use xlink:href=\"#DejaVuSans-30\"/>\r\n       <use x=\"63.623047\" xlink:href=\"#DejaVuSans-2e\"/>\r\n       <use x=\"95.410156\" xlink:href=\"#DejaVuSans-32\"/>\r\n      </g>\r\n     </g>\r\n    </g>\r\n    <g id=\"ytick_11\">\r\n     <g id=\"line2d_18\">\r\n      <g>\r\n       <use style=\"stroke:#000000;stroke-width:0.8;\" x=\"372.503563\" xlink:href=\"#m8aca48866e\" y=\"117.441806\"/>\r\n      </g>\r\n     </g>\r\n     <g id=\"text_67\">\r\n      <!-- 0.4 -->\r\n      <g transform=\"translate(379.503563 121.241025)scale(0.1 -0.1)\">\r\n       <use xlink:href=\"#DejaVuSans-30\"/>\r\n       <use x=\"63.623047\" xlink:href=\"#DejaVuSans-2e\"/>\r\n       <use x=\"95.410156\" xlink:href=\"#DejaVuSans-34\"/>\r\n      </g>\r\n     </g>\r\n    </g>\r\n    <g id=\"ytick_12\">\r\n     <g id=\"line2d_19\">\r\n      <g>\r\n       <use style=\"stroke:#000000;stroke-width:0.8;\" x=\"372.503563\" xlink:href=\"#m8aca48866e\" y=\"81.960944\"/>\r\n      </g>\r\n     </g>\r\n     <g id=\"text_68\">\r\n      <!-- 0.6 -->\r\n      <g transform=\"translate(379.503563 85.760162)scale(0.1 -0.1)\">\r\n       <use xlink:href=\"#DejaVuSans-30\"/>\r\n       <use x=\"63.623047\" xlink:href=\"#DejaVuSans-2e\"/>\r\n       <use x=\"95.410156\" xlink:href=\"#DejaVuSans-36\"/>\r\n      </g>\r\n     </g>\r\n    </g>\r\n    <g id=\"ytick_13\">\r\n     <g id=\"line2d_20\">\r\n      <g>\r\n       <use style=\"stroke:#000000;stroke-width:0.8;\" x=\"372.503563\" xlink:href=\"#m8aca48866e\" y=\"46.480081\"/>\r\n      </g>\r\n     </g>\r\n     <g id=\"text_69\">\r\n      <!-- 0.8 -->\r\n      <g transform=\"translate(379.503563 50.2793)scale(0.1 -0.1)\">\r\n       <use xlink:href=\"#DejaVuSans-30\"/>\r\n       <use x=\"63.623047\" xlink:href=\"#DejaVuSans-2e\"/>\r\n       <use x=\"95.410156\" xlink:href=\"#DejaVuSans-38\"/>\r\n      </g>\r\n     </g>\r\n    </g>\r\n    <g id=\"ytick_14\">\r\n     <g id=\"line2d_21\">\r\n      <g>\r\n       <use style=\"stroke:#000000;stroke-width:0.8;\" x=\"372.503563\" xlink:href=\"#m8aca48866e\" y=\"10.999219\"/>\r\n      </g>\r\n     </g>\r\n     <g id=\"text_70\">\r\n      <!-- 1.0 -->\r\n      <g transform=\"translate(379.503563 14.798438)scale(0.1 -0.1)\">\r\n       <use xlink:href=\"#DejaVuSans-31\"/>\r\n       <use x=\"63.623047\" xlink:href=\"#DejaVuSans-2e\"/>\r\n       <use x=\"95.410156\" xlink:href=\"#DejaVuSans-30\"/>\r\n      </g>\r\n     </g>\r\n    </g>\r\n   </g>\r\n   <g id=\"LineCollection_1\"/>\r\n   <g id=\"patch_5\">\r\n    <path d=\"M 361.631563 228.439219 \r\nL 361.631563 227.589844 \r\nL 361.631563 11.848594 \r\nL 361.631563 10.999219 \r\nL 372.503563 10.999219 \r\nL 372.503563 11.848594 \r\nL 372.503563 227.589844 \r\nL 372.503563 228.439219 \r\nz\r\n\" style=\"fill:none;\"/>\r\n   </g>\r\n  </g>\r\n </g>\r\n <defs>\r\n  <clipPath id=\"p89b978362a\">\r\n   <rect height=\"217.44\" width=\"267.84\" x=\"77.051563\" y=\"10.999219\"/>\r\n  </clipPath>\r\n  <clipPath id=\"pfcc403166e\">\r\n   <rect height=\"217.44\" width=\"10.872\" x=\"361.631563\" y=\"10.999219\"/>\r\n  </clipPath>\r\n </defs>\r\n</svg>\r\n",
      "image/png": "[encoded data removed]"
     },
     "metadata": {
      "needs_background": "light"
     }
    }
   ],
   "metadata": {}
  },
  {
   "cell_type": "markdown",
   "source": [
    "### Seperating features and target label"
   ],
   "metadata": {}
  },
  {
   "cell_type": "code",
   "execution_count": 12,
   "source": [
    "features = df[['N', 'P','K','temperature', 'humidity', 'ph', 'rainfall']]\r\n",
    "target = df['label']\r\n",
    "#features = df[['temperature', 'humidity', 'ph', 'rainfall']]\r\n",
    "labels = df['label']"
   ],
   "outputs": [],
   "metadata": {}
  },
  {
   "cell_type": "code",
   "execution_count": 13,
   "source": [
    "# Initialzing empty lists to append all model's name and corresponding name\r\n",
    "acc = []\r\n",
    "model = []"
   ],
   "outputs": [],
   "metadata": {}
  },
  {
   "cell_type": "code",
   "execution_count": 14,
   "source": [
    "# Splitting into train and test data\r\n",
    "\r\n",
    "from sklearn.model_selection import train_test_split\r\n",
    "Xtrain, Xtest, Ytrain, Ytest = train_test_split(features,target,test_size = 0.2,random_state =2)"
   ],
   "outputs": [],
   "metadata": {}
  },
  {
   "cell_type": "markdown",
   "source": [
    "# Decision Tree"
   ],
   "metadata": {}
  },
  {
   "cell_type": "code",
   "execution_count": 15,
   "source": [
    "from sklearn.tree import DecisionTreeClassifier\r\n",
    "\r\n",
    "DecisionTree = DecisionTreeClassifier(criterion=\"entropy\",random_state=2,max_depth=5)\r\n",
    "\r\n",
    "DecisionTree.fit(Xtrain,Ytrain)\r\n",
    "\r\n",
    "predicted_values = DecisionTree.predict(Xtest)\r\n",
    "x = metrics.accuracy_score(Ytest, predicted_values)\r\n",
    "acc.append(x)\r\n",
    "model.append('Decision Tree')\r\n",
    "print(\"DecisionTrees's Accuracy is: \", x*100)\r\n",
    "\r\n",
    "print(classification_report(Ytest,predicted_values))"
   ],
   "outputs": [
    {
     "output_type": "stream",
     "name": "stdout",
     "text": [
      "DecisionTrees's Accuracy is:  90.9090909090909\n",
      "              precision    recall  f1-score   support\n",
      "\n",
      "       apple       1.00      1.00      1.00        13\n",
      "      banana       1.00      1.00      1.00        17\n",
      "   blackgram       0.64      1.00      0.78        16\n",
      "    chickpea       1.00      1.00      1.00        21\n",
      "     coconut       1.00      1.00      1.00        21\n",
      "      coffee       1.00      0.91      0.95        22\n",
      "      cotton       1.00      1.00      1.00        20\n",
      "      grapes       1.00      1.00      1.00        18\n",
      "        jute       1.00      0.21      0.35        28\n",
      " kidneybeans       1.00      0.79      0.88        14\n",
      "      lentil       1.00      0.96      0.98        23\n",
      "       maize       0.80      0.95      0.87        21\n",
      "       mango       1.00      0.88      0.94        26\n",
      "   mothbeans       0.92      0.58      0.71        19\n",
      "    mungbean       1.00      1.00      1.00        24\n",
      "   muskmelon       1.00      1.00      1.00        23\n",
      "      orange       1.00      1.00      1.00        29\n",
      "      papaya       1.00      1.00      1.00        19\n",
      "  pigeonpeas       0.86      1.00      0.92        18\n",
      " pomegranate       1.00      1.00      1.00        17\n",
      "        rice       0.42      1.00      0.59        16\n",
      "  watermelon       1.00      1.00      1.00        15\n",
      "\n",
      "    accuracy                           0.91       440\n",
      "   macro avg       0.94      0.92      0.91       440\n",
      "weighted avg       0.95      0.91      0.90       440\n",
      "\n"
     ]
    }
   ],
   "metadata": {}
  },
  {
   "cell_type": "code",
   "execution_count": 16,
   "source": [
    "from sklearn.model_selection import cross_val_score"
   ],
   "outputs": [],
   "metadata": {}
  },
  {
   "cell_type": "code",
   "execution_count": 17,
   "source": [
    "# Cross validation score (Decision Tree)\r\n",
    "score = cross_val_score(DecisionTree, features, target,cv=5)"
   ],
   "outputs": [],
   "metadata": {}
  },
  {
   "cell_type": "code",
   "execution_count": 18,
   "source": [
    "score"
   ],
   "outputs": [
    {
     "output_type": "execute_result",
     "data": {
      "text/plain": [
       "array([0.92954545, 0.93409091, 0.91590909, 0.91818182, 0.93409091])"
      ]
     },
     "metadata": {},
     "execution_count": 18
    }
   ],
   "metadata": {}
  },
  {
   "cell_type": "markdown",
   "source": [
    "### Saving trained Decision Tree model"
   ],
   "metadata": {}
  },
  {
   "cell_type": "code",
   "execution_count": 19,
   "source": [
    "import pickle\r\n",
    "# Dump the trained Naive Bayes classifier with Pickle\r\n",
    "DT_pkl_filename = '../models/DecisionTree.pkl'\r\n",
    "# Open the file to save as pkl file\r\n",
    "DT_Model_pkl = open(DT_pkl_filename, 'wb')\r\n",
    "pickle.dump(DecisionTree, DT_Model_pkl)\r\n",
    "# Close the pickle instances\r\n",
    "DT_Model_pkl.close()"
   ],
   "outputs": [],
   "metadata": {}
  },
  {
   "cell_type": "markdown",
   "source": [
    "# Guassian Naive Bayes"
   ],
   "metadata": {}
  },
  {
   "cell_type": "code",
   "execution_count": 20,
   "source": [
    "from sklearn.naive_bayes import GaussianNB\r\n",
    "\r\n",
    "NaiveBayes = GaussianNB()\r\n",
    "\r\n",
    "NaiveBayes.fit(Xtrain,Ytrain)\r\n",
    "\r\n",
    "predicted_values = NaiveBayes.predict(Xtest)\r\n",
    "x = metrics.accuracy_score(Ytest, predicted_values)\r\n",
    "acc.append(x)\r\n",
    "model.append('Naive Bayes')\r\n",
    "print(\"Naive Bayes's Accuracy is: \", x)\r\n",
    "\r\n",
    "print(classification_report(Ytest,predicted_values))"
   ],
   "outputs": [
    {
     "output_type": "stream",
     "name": "stdout",
     "text": [
      "Naive Bayes's Accuracy is:  0.9863636363636363\n",
      "              precision    recall  f1-score   support\n",
      "\n",
      "       apple       1.00      1.00      1.00        13\n",
      "      banana       1.00      1.00      1.00        17\n",
      "   blackgram       0.94      1.00      0.97        16\n",
      "    chickpea       1.00      1.00      1.00        21\n",
      "     coconut       1.00      1.00      1.00        21\n",
      "      coffee       1.00      1.00      1.00        22\n",
      "      cotton       1.00      1.00      1.00        20\n",
      "      grapes       1.00      1.00      1.00        18\n",
      "        jute       0.88      1.00      0.93        28\n",
      " kidneybeans       1.00      1.00      1.00        14\n",
      "      lentil       0.96      1.00      0.98        23\n",
      "       maize       1.00      1.00      1.00        21\n",
      "       mango       1.00      1.00      1.00        26\n",
      "   mothbeans       1.00      0.89      0.94        19\n",
      "    mungbean       1.00      1.00      1.00        24\n",
      "   muskmelon       1.00      1.00      1.00        23\n",
      "      orange       1.00      1.00      1.00        29\n",
      "      papaya       1.00      1.00      1.00        19\n",
      "  pigeonpeas       1.00      1.00      1.00        18\n",
      " pomegranate       1.00      1.00      1.00        17\n",
      "        rice       1.00      0.75      0.86        16\n",
      "  watermelon       1.00      1.00      1.00        15\n",
      "\n",
      "    accuracy                           0.99       440\n",
      "   macro avg       0.99      0.98      0.99       440\n",
      "weighted avg       0.99      0.99      0.99       440\n",
      "\n"
     ]
    }
   ],
   "metadata": {}
  },
  {
   "cell_type": "code",
   "execution_count": 21,
   "source": [
    "# Cross validation score (NaiveBayes)\r\n",
    "score = cross_val_score(NaiveBayes,features,target,cv=5)\r\n",
    "score"
   ],
   "outputs": [
    {
     "output_type": "execute_result",
     "data": {
      "text/plain": [
       "array([0.99772727, 0.99772727, 0.99318182, 0.99318182, 0.99090909])"
      ]
     },
     "metadata": {},
     "execution_count": 21
    }
   ],
   "metadata": {}
  },
  {
   "cell_type": "markdown",
   "source": [
    "### Saving trained Guassian Naive Bayes model"
   ],
   "metadata": {}
  },
  {
   "cell_type": "code",
   "execution_count": 22,
   "source": [
    "import pickle\r\n",
    "# Dump the trained Naive Bayes classifier with Pickle\r\n",
    "NB_pkl_filename = '../models/NBClassifier.pkl'\r\n",
    "# Open the file to save as pkl file\r\n",
    "NB_Model_pkl = open(NB_pkl_filename, 'wb')\r\n",
    "pickle.dump(NaiveBayes, NB_Model_pkl)\r\n",
    "# Close the pickle instances\r\n",
    "NB_Model_pkl.close()"
   ],
   "outputs": [],
   "metadata": {}
  },
  {
   "cell_type": "markdown",
   "source": [
    "# Support Vector Machine (SVM)"
   ],
   "metadata": {}
  },
  {
   "cell_type": "code",
   "execution_count": 23,
   "source": [
    "from sklearn.svm import SVC\r\n",
    "# data normalization with sklearn\r\n",
    "from sklearn.preprocessing import MinMaxScaler\r\n",
    "# fit scaler on training data\r\n",
    "norm = MinMaxScaler().fit(Xtrain)\r\n",
    "X_train_norm = norm.transform(Xtrain)\r\n",
    "# transform testing dataabs\r\n",
    "X_test_norm = norm.transform(Xtest)\r\n",
    "SVM = SVC(kernel='poly', degree=3, C=1)\r\n",
    "SVM.fit(X_train_norm,Ytrain)\r\n",
    "predicted_values = SVM.predict(X_test_norm)\r\n",
    "x = metrics.accuracy_score(Ytest, predicted_values)\r\n",
    "acc.append(x)\r\n",
    "model.append('SVM')\r\n",
    "print(\"SVM's Accuracy is: \", x)\r\n",
    "\r\n",
    "print(classification_report(Ytest,predicted_values))"
   ],
   "outputs": [
    {
     "output_type": "stream",
     "name": "stdout",
     "text": [
      "SVM's Accuracy is:  0.9704545454545455\n",
      "              precision    recall  f1-score   support\n",
      "\n",
      "       apple       1.00      1.00      1.00        13\n",
      "      banana       1.00      1.00      1.00        17\n",
      "   blackgram       0.89      1.00      0.94        16\n",
      "    chickpea       1.00      1.00      1.00        21\n",
      "     coconut       1.00      1.00      1.00        21\n",
      "      coffee       1.00      1.00      1.00        22\n",
      "      cotton       0.95      1.00      0.98        20\n",
      "      grapes       1.00      1.00      1.00        18\n",
      "        jute       0.85      0.82      0.84        28\n",
      " kidneybeans       1.00      1.00      1.00        14\n",
      "      lentil       0.96      1.00      0.98        23\n",
      "       maize       1.00      0.95      0.98        21\n",
      "       mango       1.00      1.00      1.00        26\n",
      "   mothbeans       1.00      0.84      0.91        19\n",
      "    mungbean       1.00      1.00      1.00        24\n",
      "   muskmelon       1.00      1.00      1.00        23\n",
      "      orange       1.00      1.00      1.00        29\n",
      "      papaya       1.00      1.00      1.00        19\n",
      "  pigeonpeas       1.00      1.00      1.00        18\n",
      " pomegranate       1.00      1.00      1.00        17\n",
      "        rice       0.71      0.75      0.73        16\n",
      "  watermelon       1.00      1.00      1.00        15\n",
      "\n",
      "    accuracy                           0.97       440\n",
      "   macro avg       0.97      0.97      0.97       440\n",
      "weighted avg       0.97      0.97      0.97       440\n",
      "\n"
     ]
    }
   ],
   "metadata": {}
  },
  {
   "cell_type": "code",
   "execution_count": 24,
   "source": [
    "# Cross validation score (SVM)\r\n",
    "score = cross_val_score(SVM,features,target,cv=5)\r\n",
    "score"
   ],
   "outputs": [
    {
     "output_type": "execute_result",
     "data": {
      "text/plain": [
       "array([0.98181818, 0.98636364, 0.975     , 0.98863636, 0.97954545])"
      ]
     },
     "metadata": {},
     "execution_count": 24
    }
   ],
   "metadata": {}
  },
  {
   "cell_type": "code",
   "execution_count": 25,
   "source": [
    "#Saving trained SVM model"
   ],
   "outputs": [],
   "metadata": {}
  },
  {
   "cell_type": "code",
   "execution_count": 26,
   "source": [
    "import pickle\r\n",
    "# Dump the trained SVM classifier with Pickle\r\n",
    "SVM_pkl_filename = '../models/SVMClassifier.pkl'\r\n",
    "# Open the file to save as pkl file\r\n",
    "SVM_Model_pkl = open(SVM_pkl_filename, 'wb')\r\n",
    "pickle.dump(SVM, SVM_Model_pkl)\r\n",
    "# Close the pickle instances\r\n",
    "SVM_Model_pkl.close()"
   ],
   "outputs": [],
   "metadata": {}
  },
  {
   "cell_type": "markdown",
   "source": [
    "# Logistic Regression"
   ],
   "metadata": {}
  },
  {
   "cell_type": "code",
   "execution_count": 27,
   "source": [
    "from sklearn.linear_model import LogisticRegression\r\n",
    "\r\n",
    "LogReg = LogisticRegression(random_state=2)\r\n",
    "\r\n",
    "LogReg.fit(Xtrain,Ytrain)\r\n",
    "\r\n",
    "predicted_values = LogReg.predict(Xtest)\r\n",
    "\r\n",
    "x = metrics.accuracy_score(Ytest, predicted_values)\r\n",
    "acc.append(x)\r\n",
    "model.append('Logistic Regression')\r\n",
    "print(\"Logistic Regression's Accuracy is: \", x)\r\n",
    "\r\n",
    "print(classification_report(Ytest,predicted_values))"
   ],
   "outputs": [
    {
     "output_type": "stream",
     "name": "stdout",
     "text": [
      "Logistic Regression's Accuracy is:  0.9659090909090909\n",
      "              precision    recall  f1-score   support\n",
      "\n",
      "       apple       1.00      1.00      1.00        13\n",
      "      banana       1.00      1.00      1.00        17\n",
      "   blackgram       0.78      0.88      0.82        16\n",
      "    chickpea       1.00      1.00      1.00        21\n",
      "     coconut       0.95      1.00      0.98        21\n",
      "      coffee       1.00      1.00      1.00        22\n",
      "      cotton       0.90      0.95      0.93        20\n",
      "      grapes       1.00      1.00      1.00        18\n",
      "        jute       0.85      1.00      0.92        28\n",
      " kidneybeans       1.00      1.00      1.00        14\n",
      "      lentil       1.00      1.00      1.00        23\n",
      "       maize       0.95      0.90      0.93        21\n",
      "       mango       1.00      1.00      1.00        26\n",
      "   mothbeans       0.88      0.79      0.83        19\n",
      "    mungbean       1.00      1.00      1.00        24\n",
      "   muskmelon       1.00      1.00      1.00        23\n",
      "      orange       1.00      1.00      1.00        29\n",
      "      papaya       1.00      0.95      0.97        19\n",
      "  pigeonpeas       1.00      1.00      1.00        18\n",
      " pomegranate       1.00      1.00      1.00        17\n",
      "        rice       1.00      0.69      0.81        16\n",
      "  watermelon       1.00      1.00      1.00        15\n",
      "\n",
      "    accuracy                           0.97       440\n",
      "   macro avg       0.97      0.96      0.96       440\n",
      "weighted avg       0.97      0.97      0.97       440\n",
      "\n"
     ]
    }
   ],
   "metadata": {}
  },
  {
   "cell_type": "code",
   "execution_count": 28,
   "source": [
    "# Cross validation score (Logistic Regression)\r\n",
    "score = cross_val_score(LogReg,features,target,cv=5)\r\n",
    "score"
   ],
   "outputs": [
    {
     "output_type": "execute_result",
     "data": {
      "text/plain": [
       "array([0.95909091, 0.97272727, 0.93863636, 0.96363636, 0.93181818])"
      ]
     },
     "metadata": {},
     "execution_count": 28
    }
   ],
   "metadata": {}
  },
  {
   "cell_type": "markdown",
   "source": [
    "### Saving trained Logistic Regression model"
   ],
   "metadata": {}
  },
  {
   "cell_type": "code",
   "execution_count": 29,
   "source": [
    "import pickle\r\n",
    "# Dump the trained Naive Bayes classifier with Pickle\r\n",
    "LR_pkl_filename = '../models/LogisticRegression.pkl'\r\n",
    "# Open the file to save as pkl file\r\n",
    "LR_Model_pkl = open(DT_pkl_filename, 'wb')\r\n",
    "pickle.dump(LogReg, LR_Model_pkl)\r\n",
    "# Close the pickle instances\r\n",
    "LR_Model_pkl.close()"
   ],
   "outputs": [],
   "metadata": {}
  },
  {
   "cell_type": "markdown",
   "source": [
    "# Random Forest"
   ],
   "metadata": {}
  },
  {
   "cell_type": "code",
   "execution_count": 30,
   "source": [
    "from sklearn.ensemble import RandomForestClassifier\r\n",
    "\r\n",
    "RF = RandomForestClassifier(n_estimators=20, random_state=0)\r\n",
    "RF.fit(Xtrain,Ytrain)\r\n",
    "\r\n",
    "predicted_values = RF.predict(Xtest)\r\n",
    "\r\n",
    "x = metrics.accuracy_score(Ytest, predicted_values)\r\n",
    "acc.append(x)\r\n",
    "model.append('RF')\r\n",
    "print(\"RF's Accuracy is: \", x)\r\n",
    "\r\n",
    "print(classification_report(Ytest,predicted_values))"
   ],
   "outputs": [
    {
     "output_type": "stream",
     "name": "stdout",
     "text": [
      "RF's Accuracy is:  0.9886363636363636\n",
      "              precision    recall  f1-score   support\n",
      "\n",
      "       apple       1.00      1.00      1.00        13\n",
      "      banana       1.00      1.00      1.00        17\n",
      "   blackgram       0.94      1.00      0.97        16\n",
      "    chickpea       1.00      1.00      1.00        21\n",
      "     coconut       1.00      1.00      1.00        21\n",
      "      coffee       1.00      1.00      1.00        22\n",
      "      cotton       1.00      1.00      1.00        20\n",
      "      grapes       1.00      1.00      1.00        18\n",
      "        jute       0.90      1.00      0.95        28\n",
      " kidneybeans       1.00      1.00      1.00        14\n",
      "      lentil       0.96      1.00      0.98        23\n",
      "       maize       1.00      1.00      1.00        21\n",
      "       mango       1.00      1.00      1.00        26\n",
      "   mothbeans       1.00      0.89      0.94        19\n",
      "    mungbean       1.00      1.00      1.00        24\n",
      "   muskmelon       1.00      1.00      1.00        23\n",
      "      orange       1.00      1.00      1.00        29\n",
      "      papaya       1.00      1.00      1.00        19\n",
      "  pigeonpeas       1.00      1.00      1.00        18\n",
      " pomegranate       1.00      1.00      1.00        17\n",
      "        rice       1.00      0.81      0.90        16\n",
      "  watermelon       1.00      1.00      1.00        15\n",
      "\n",
      "    accuracy                           0.99       440\n",
      "   macro avg       0.99      0.99      0.99       440\n",
      "weighted avg       0.99      0.99      0.99       440\n",
      "\n"
     ]
    }
   ],
   "metadata": {}
  },
  {
   "cell_type": "code",
   "execution_count": 31,
   "source": [
    "# Cross validation score (Random Forest)\r\n",
    "score = cross_val_score(RF,features,target,cv=5)\r\n",
    "score"
   ],
   "outputs": [
    {
     "output_type": "execute_result",
     "data": {
      "text/plain": [
       "array([0.99545455, 0.99318182, 0.99318182, 0.99318182, 0.99318182])"
      ]
     },
     "metadata": {},
     "execution_count": 31
    }
   ],
   "metadata": {}
  },
  {
   "cell_type": "markdown",
   "source": [
    "### Saving trained Random Forest model"
   ],
   "metadata": {}
  },
  {
   "cell_type": "code",
   "execution_count": 32,
   "source": [
    "import pickle\r\n",
    "# Dump the trained Naive Bayes classifier with Pickle\r\n",
    "RF_pkl_filename = '../models/RandomForest.pkl'\r\n",
    "# Open the file to save as pkl file\r\n",
    "RF_Model_pkl = open(RF_pkl_filename, 'wb')\r\n",
    "pickle.dump(RF, RF_Model_pkl)\r\n",
    "# Close the pickle instances\r\n",
    "RF_Model_pkl.close()"
   ],
   "outputs": [],
   "metadata": {}
  },
  {
   "cell_type": "markdown",
   "source": [
    "# XGBoost"
   ],
   "metadata": {}
  },
  {
   "cell_type": "code",
   "execution_count": 33,
   "source": [
    "import xgboost as xgb\r\n",
    "XB = xgb.XGBClassifier()\r\n",
    "XB.fit(Xtrain,Ytrain)\r\n",
    "\r\n",
    "predicted_values = XB.predict(Xtest)\r\n",
    "\r\n",
    "x = metrics.accuracy_score(Ytest, predicted_values)\r\n",
    "acc.append(x)\r\n",
    "model.append('XGBoost')\r\n",
    "print(\"XGBoost's Accuracy is: \", x)\r\n",
    "\r\n",
    "print(classification_report(Ytest,predicted_values))"
   ],
   "outputs": [
    {
     "output_type": "stream",
     "name": "stdout",
     "text": [
      "[20:21:01] WARNING: C:/Users/Administrator/workspace/xgboost-win64_release_1.4.0/src/learner.cc:1095: Starting in XGBoost 1.3.0, the default evaluation metric used with the objective 'multi:softprob' was changed from 'merror' to 'mlogloss'. Explicitly set eval_metric if you'd like to restore the old behavior.\n",
      "XGBoost's Accuracy is:  0.990909090909091\n",
      "              precision    recall  f1-score   support\n",
      "\n",
      "       apple       1.00      1.00      1.00        13\n",
      "      banana       1.00      1.00      1.00        17\n",
      "   blackgram       1.00      1.00      1.00        16\n",
      "    chickpea       1.00      1.00      1.00        21\n",
      "     coconut       1.00      1.00      1.00        21\n",
      "      coffee       1.00      1.00      1.00        22\n",
      "      cotton       1.00      1.00      1.00        20\n",
      "      grapes       1.00      1.00      1.00        18\n",
      "        jute       0.93      0.93      0.93        28\n",
      " kidneybeans       1.00      1.00      1.00        14\n",
      "      lentil       1.00      1.00      1.00        23\n",
      "       maize       1.00      1.00      1.00        21\n",
      "       mango       1.00      1.00      1.00        26\n",
      "   mothbeans       1.00      1.00      1.00        19\n",
      "    mungbean       1.00      1.00      1.00        24\n",
      "   muskmelon       1.00      1.00      1.00        23\n",
      "      orange       1.00      1.00      1.00        29\n",
      "      papaya       1.00      1.00      1.00        19\n",
      "  pigeonpeas       1.00      1.00      1.00        18\n",
      " pomegranate       0.94      1.00      0.97        17\n",
      "        rice       0.93      0.88      0.90        16\n",
      "  watermelon       1.00      1.00      1.00        15\n",
      "\n",
      "    accuracy                           0.99       440\n",
      "   macro avg       0.99      0.99      0.99       440\n",
      "weighted avg       0.99      0.99      0.99       440\n",
      "\n"
     ]
    }
   ],
   "metadata": {
    "scrolled": true
   }
  },
  {
   "cell_type": "code",
   "execution_count": 34,
   "source": [
    "# Cross validation score (XGBoost)\r\n",
    "score = cross_val_score(XB,features,target,cv=5)\r\n",
    "score"
   ],
   "outputs": [
    {
     "output_type": "stream",
     "name": "stdout",
     "text": [
      "[20:21:02] WARNING: C:/Users/Administrator/workspace/xgboost-win64_release_1.4.0/src/learner.cc:1095: Starting in XGBoost 1.3.0, the default evaluation metric used with the objective 'multi:softprob' was changed from 'merror' to 'mlogloss'. Explicitly set eval_metric if you'd like to restore the old behavior.\n",
      "[20:21:03] WARNING: C:/Users/Administrator/workspace/xgboost-win64_release_1.4.0/src/learner.cc:1095: Starting in XGBoost 1.3.0, the default evaluation metric used with the objective 'multi:softprob' was changed from 'merror' to 'mlogloss'. Explicitly set eval_metric if you'd like to restore the old behavior.\n",
      "[20:21:05] WARNING: C:/Users/Administrator/workspace/xgboost-win64_release_1.4.0/src/learner.cc:1095: Starting in XGBoost 1.3.0, the default evaluation metric used with the objective 'multi:softprob' was changed from 'merror' to 'mlogloss'. Explicitly set eval_metric if you'd like to restore the old behavior.\n",
      "[20:21:06] WARNING: C:/Users/Administrator/workspace/xgboost-win64_release_1.4.0/src/learner.cc:1095: Starting in XGBoost 1.3.0, the default evaluation metric used with the objective 'multi:softprob' was changed from 'merror' to 'mlogloss'. Explicitly set eval_metric if you'd like to restore the old behavior.\n",
      "[20:21:07] WARNING: C:/Users/Administrator/workspace/xgboost-win64_release_1.4.0/src/learner.cc:1095: Starting in XGBoost 1.3.0, the default evaluation metric used with the objective 'multi:softprob' was changed from 'merror' to 'mlogloss'. Explicitly set eval_metric if you'd like to restore the old behavior.\n"
     ]
    },
    {
     "output_type": "execute_result",
     "data": {
      "text/plain": [
       "array([0.98636364, 0.99318182, 0.99318182, 0.98863636, 0.99090909])"
      ]
     },
     "metadata": {},
     "execution_count": 34
    }
   ],
   "metadata": {}
  },
  {
   "cell_type": "markdown",
   "source": [
    "### Saving trained XGBoost model"
   ],
   "metadata": {}
  },
  {
   "cell_type": "code",
   "execution_count": 35,
   "source": [
    "import pickle\r\n",
    "# Dump the trained Naive Bayes classifier with Pickle\r\n",
    "XB_pkl_filename = '../models/XGBoost.pkl'\r\n",
    "# Open the file to save as pkl file\r\n",
    "XB_Model_pkl = open(XB_pkl_filename, 'wb')\r\n",
    "pickle.dump(XB, XB_Model_pkl)\r\n",
    "# Close the pickle instances\r\n",
    "XB_Model_pkl.close()"
   ],
   "outputs": [],
   "metadata": {}
  },
  {
   "cell_type": "markdown",
   "source": [
    "## Accuracy Comparison"
   ],
   "metadata": {}
  },
  {
   "cell_type": "code",
   "execution_count": 36,
   "source": [
    "plt.figure(figsize=[10,5],dpi = 100)\r\n",
    "plt.title('Accuracy Comparison')\r\n",
    "plt.xlabel('Accuracy')\r\n",
    "plt.ylabel('Algorithm')\r\n",
    "sns.barplot(x = acc,y = model,palette='dark')"
   ],
   "outputs": [
    {
     "output_type": "execute_result",
     "data": {
      "text/plain": [
       "<AxesSubplot:title={'center':'Accuracy Comparison'}, xlabel='Accuracy', ylabel='Algorithm'>"
      ]
     },
     "metadata": {},
     "execution_count": 36
    },
    {
     "output_type": "display_data",
     "data": {
      "text/plain": [
       "<Figure size 1000x500 with 1 Axes>"
      ],
      "image/svg+xml": "<?xml version=\"1.0\" encoding=\"utf-8\" standalone=\"no\"?>\r\n<!DOCTYPE svg PUBLIC \"-//W3C//DTD SVG 1.1//EN\"\r\n  \"http://www.w3.org/Graphics/SVG/1.1/DTD/svg11.dtd\">\r\n<svg height=\"331.674375pt\" version=\"1.1\" viewBox=\"0 0 688.996875 331.674375\" width=\"688.996875pt\" xmlns=\"http://www.w3.org/2000/svg\" xmlns:xlink=\"http://www.w3.org/1999/xlink\">\r\n <metadata>\r\n  <rdf:RDF xmlns:cc=\"http://creativecommons.org/ns#\" xmlns:dc=\"http://purl.org/dc/elements/1.1/\" xmlns:rdf=\"http://www.w3.org/1999/02/22-rdf-syntax-ns#\">\r\n   <cc:Work>\r\n    <dc:type rdf:resource=\"http://purl.org/dc/dcmitype/StillImage\"/>\r\n    <dc:date>2021-08-21T20:21:09.721427</dc:date>\r\n    <dc:format>image/svg+xml</dc:format>\r\n    <dc:creator>\r\n     <cc:Agent>\r\n      <dc:title>Matplotlib v3.4.2, https://matplotlib.org/</dc:title>\r\n     </cc:Agent>\r\n    </dc:creator>\r\n   </cc:Work>\r\n  </rdf:RDF>\r\n </metadata>\r\n <defs>\r\n  <style type=\"text/css\">*{stroke-linecap:butt;stroke-linejoin:round;}</style>\r\n </defs>\r\n <g id=\"figure_1\">\r\n  <g id=\"patch_1\">\r\n   <path d=\"M 0 331.674375 \r\nL 688.996875 331.674375 \r\nL 688.996875 0 \r\nL 0 0 \r\nz\r\n\" style=\"fill:none;\"/>\r\n  </g>\r\n  <g id=\"axes_1\">\r\n   <g id=\"patch_2\">\r\n    <path d=\"M 123.796875 294.118125 \r\nL 681.796875 294.118125 \r\nL 681.796875 22.318125 \r\nL 123.796875 22.318125 \r\nz\r\n\" style=\"fill:#ffffff;\"/>\r\n   </g>\r\n   <g id=\"patch_3\">\r\n    <path clip-path=\"url(#p8423830419)\" d=\"M 123.796875 26.848125 \r\nL 611.346023 26.848125 \r\nL 611.346023 63.088125 \r\nL 123.796875 63.088125 \r\nz\r\n\" style=\"fill:#10256f;\"/>\r\n   </g>\r\n   <g id=\"patch_4\">\r\n    <path clip-path=\"url(#p8423830419)\" d=\"M 123.796875 72.148125 \r\nL 652.787701 72.148125 \r\nL 652.787701 108.388125 \r\nL 123.796875 108.388125 \r\nz\r\n\" style=\"fill:#9c4821;\"/>\r\n   </g>\r\n   <g id=\"patch_5\">\r\n    <path clip-path=\"url(#p8423830419)\" d=\"M 123.796875 117.448125 \r\nL 644.255591 117.448125 \r\nL 644.255591 153.688125 \r\nL 123.796875 153.688125 \r\nz\r\n\" style=\"fill:#1e6525;\"/>\r\n   </g>\r\n   <g id=\"patch_6\">\r\n    <path clip-path=\"url(#p8423830419)\" d=\"M 123.796875 162.748125 \r\nL 641.817845 162.748125 \r\nL 641.817845 198.988125 \r\nL 123.796875 198.988125 \r\nz\r\n\" style=\"fill:#7b1711;\"/>\r\n   </g>\r\n   <g id=\"patch_7\">\r\n    <path clip-path=\"url(#p8423830419)\" d=\"M 123.796875 208.048125 \r\nL 654.006574 208.048125 \r\nL 654.006574 244.288125 \r\nL 123.796875 244.288125 \r\nz\r\n\" style=\"fill:#552867;\"/>\r\n   </g>\r\n   <g id=\"patch_8\">\r\n    <path clip-path=\"url(#p8423830419)\" d=\"M 123.796875 253.348125 \r\nL 655.225446 253.348125 \r\nL 655.225446 289.588125 \r\nL 123.796875 289.588125 \r\nz\r\n\" style=\"fill:#503016;\"/>\r\n   </g>\r\n   <g id=\"matplotlib.axis_1\">\r\n    <g id=\"xtick_1\">\r\n     <g id=\"line2d_1\">\r\n      <defs>\r\n       <path d=\"M 0 0 \r\nL 0 3.5 \r\n\" id=\"me1d1a1f4e8\" style=\"stroke:#000000;stroke-width:0.8;\"/>\r\n      </defs>\r\n      <g>\r\n       <use style=\"stroke:#000000;stroke-width:0.8;\" x=\"123.796875\" xlink:href=\"#me1d1a1f4e8\" y=\"294.118125\"/>\r\n      </g>\r\n     </g>\r\n     <g id=\"text_1\">\r\n      <!-- 0.0 -->\r\n      <g transform=\"translate(115.845313 308.716563)scale(0.1 -0.1)\">\r\n       <defs>\r\n        <path d=\"M 2034 4250 \r\nQ 1547 4250 1301 3770 \r\nQ 1056 3291 1056 2328 \r\nQ 1056 1369 1301 889 \r\nQ 1547 409 2034 409 \r\nQ 2525 409 2770 889 \r\nQ 3016 1369 3016 2328 \r\nQ 3016 3291 2770 3770 \r\nQ 2525 4250 2034 4250 \r\nz\r\nM 2034 4750 \r\nQ 2819 4750 3233 4129 \r\nQ 3647 3509 3647 2328 \r\nQ 3647 1150 3233 529 \r\nQ 2819 -91 2034 -91 \r\nQ 1250 -91 836 529 \r\nQ 422 1150 422 2328 \r\nQ 422 3509 836 4129 \r\nQ 1250 4750 2034 4750 \r\nz\r\n\" id=\"DejaVuSans-30\" transform=\"scale(0.015625)\"/>\r\n        <path d=\"M 684 794 \r\nL 1344 794 \r\nL 1344 0 \r\nL 684 0 \r\nL 684 794 \r\nz\r\n\" id=\"DejaVuSans-2e\" transform=\"scale(0.015625)\"/>\r\n       </defs>\r\n       <use xlink:href=\"#DejaVuSans-30\"/>\r\n       <use x=\"63.623047\" xlink:href=\"#DejaVuSans-2e\"/>\r\n       <use x=\"95.410156\" xlink:href=\"#DejaVuSans-30\"/>\r\n      </g>\r\n     </g>\r\n    </g>\r\n    <g id=\"xtick_2\">\r\n     <g id=\"line2d_2\">\r\n      <g>\r\n       <use style=\"stroke:#000000;stroke-width:0.8;\" x=\"231.057688\" xlink:href=\"#me1d1a1f4e8\" y=\"294.118125\"/>\r\n      </g>\r\n     </g>\r\n     <g id=\"text_2\">\r\n      <!-- 0.2 -->\r\n      <g transform=\"translate(223.106125 308.716563)scale(0.1 -0.1)\">\r\n       <defs>\r\n        <path d=\"M 1228 531 \r\nL 3431 531 \r\nL 3431 0 \r\nL 469 0 \r\nL 469 531 \r\nQ 828 903 1448 1529 \r\nQ 2069 2156 2228 2338 \r\nQ 2531 2678 2651 2914 \r\nQ 2772 3150 2772 3378 \r\nQ 2772 3750 2511 3984 \r\nQ 2250 4219 1831 4219 \r\nQ 1534 4219 1204 4116 \r\nQ 875 4013 500 3803 \r\nL 500 4441 \r\nQ 881 4594 1212 4672 \r\nQ 1544 4750 1819 4750 \r\nQ 2544 4750 2975 4387 \r\nQ 3406 4025 3406 3419 \r\nQ 3406 3131 3298 2873 \r\nQ 3191 2616 2906 2266 \r\nQ 2828 2175 2409 1742 \r\nQ 1991 1309 1228 531 \r\nz\r\n\" id=\"DejaVuSans-32\" transform=\"scale(0.015625)\"/>\r\n       </defs>\r\n       <use xlink:href=\"#DejaVuSans-30\"/>\r\n       <use x=\"63.623047\" xlink:href=\"#DejaVuSans-2e\"/>\r\n       <use x=\"95.410156\" xlink:href=\"#DejaVuSans-32\"/>\r\n      </g>\r\n     </g>\r\n    </g>\r\n    <g id=\"xtick_3\">\r\n     <g id=\"line2d_3\">\r\n      <g>\r\n       <use style=\"stroke:#000000;stroke-width:0.8;\" x=\"338.3185\" xlink:href=\"#me1d1a1f4e8\" y=\"294.118125\"/>\r\n      </g>\r\n     </g>\r\n     <g id=\"text_3\">\r\n      <!-- 0.4 -->\r\n      <g transform=\"translate(330.366938 308.716563)scale(0.1 -0.1)\">\r\n       <defs>\r\n        <path d=\"M 2419 4116 \r\nL 825 1625 \r\nL 2419 1625 \r\nL 2419 4116 \r\nz\r\nM 2253 4666 \r\nL 3047 4666 \r\nL 3047 1625 \r\nL 3713 1625 \r\nL 3713 1100 \r\nL 3047 1100 \r\nL 3047 0 \r\nL 2419 0 \r\nL 2419 1100 \r\nL 313 1100 \r\nL 313 1709 \r\nL 2253 4666 \r\nz\r\n\" id=\"DejaVuSans-34\" transform=\"scale(0.015625)\"/>\r\n       </defs>\r\n       <use xlink:href=\"#DejaVuSans-30\"/>\r\n       <use x=\"63.623047\" xlink:href=\"#DejaVuSans-2e\"/>\r\n       <use x=\"95.410156\" xlink:href=\"#DejaVuSans-34\"/>\r\n      </g>\r\n     </g>\r\n    </g>\r\n    <g id=\"xtick_4\">\r\n     <g id=\"line2d_4\">\r\n      <g>\r\n       <use style=\"stroke:#000000;stroke-width:0.8;\" x=\"445.579313\" xlink:href=\"#me1d1a1f4e8\" y=\"294.118125\"/>\r\n      </g>\r\n     </g>\r\n     <g id=\"text_4\">\r\n      <!-- 0.6 -->\r\n      <g transform=\"translate(437.62775 308.716563)scale(0.1 -0.1)\">\r\n       <defs>\r\n        <path d=\"M 2113 2584 \r\nQ 1688 2584 1439 2293 \r\nQ 1191 2003 1191 1497 \r\nQ 1191 994 1439 701 \r\nQ 1688 409 2113 409 \r\nQ 2538 409 2786 701 \r\nQ 3034 994 3034 1497 \r\nQ 3034 2003 2786 2293 \r\nQ 2538 2584 2113 2584 \r\nz\r\nM 3366 4563 \r\nL 3366 3988 \r\nQ 3128 4100 2886 4159 \r\nQ 2644 4219 2406 4219 \r\nQ 1781 4219 1451 3797 \r\nQ 1122 3375 1075 2522 \r\nQ 1259 2794 1537 2939 \r\nQ 1816 3084 2150 3084 \r\nQ 2853 3084 3261 2657 \r\nQ 3669 2231 3669 1497 \r\nQ 3669 778 3244 343 \r\nQ 2819 -91 2113 -91 \r\nQ 1303 -91 875 529 \r\nQ 447 1150 447 2328 \r\nQ 447 3434 972 4092 \r\nQ 1497 4750 2381 4750 \r\nQ 2619 4750 2861 4703 \r\nQ 3103 4656 3366 4563 \r\nz\r\n\" id=\"DejaVuSans-36\" transform=\"scale(0.015625)\"/>\r\n       </defs>\r\n       <use xlink:href=\"#DejaVuSans-30\"/>\r\n       <use x=\"63.623047\" xlink:href=\"#DejaVuSans-2e\"/>\r\n       <use x=\"95.410156\" xlink:href=\"#DejaVuSans-36\"/>\r\n      </g>\r\n     </g>\r\n    </g>\r\n    <g id=\"xtick_5\">\r\n     <g id=\"line2d_5\">\r\n      <g>\r\n       <use style=\"stroke:#000000;stroke-width:0.8;\" x=\"552.840125\" xlink:href=\"#me1d1a1f4e8\" y=\"294.118125\"/>\r\n      </g>\r\n     </g>\r\n     <g id=\"text_5\">\r\n      <!-- 0.8 -->\r\n      <g transform=\"translate(544.888563 308.716563)scale(0.1 -0.1)\">\r\n       <defs>\r\n        <path d=\"M 2034 2216 \r\nQ 1584 2216 1326 1975 \r\nQ 1069 1734 1069 1313 \r\nQ 1069 891 1326 650 \r\nQ 1584 409 2034 409 \r\nQ 2484 409 2743 651 \r\nQ 3003 894 3003 1313 \r\nQ 3003 1734 2745 1975 \r\nQ 2488 2216 2034 2216 \r\nz\r\nM 1403 2484 \r\nQ 997 2584 770 2862 \r\nQ 544 3141 544 3541 \r\nQ 544 4100 942 4425 \r\nQ 1341 4750 2034 4750 \r\nQ 2731 4750 3128 4425 \r\nQ 3525 4100 3525 3541 \r\nQ 3525 3141 3298 2862 \r\nQ 3072 2584 2669 2484 \r\nQ 3125 2378 3379 2068 \r\nQ 3634 1759 3634 1313 \r\nQ 3634 634 3220 271 \r\nQ 2806 -91 2034 -91 \r\nQ 1263 -91 848 271 \r\nQ 434 634 434 1313 \r\nQ 434 1759 690 2068 \r\nQ 947 2378 1403 2484 \r\nz\r\nM 1172 3481 \r\nQ 1172 3119 1398 2916 \r\nQ 1625 2713 2034 2713 \r\nQ 2441 2713 2670 2916 \r\nQ 2900 3119 2900 3481 \r\nQ 2900 3844 2670 4047 \r\nQ 2441 4250 2034 4250 \r\nQ 1625 4250 1398 4047 \r\nQ 1172 3844 1172 3481 \r\nz\r\n\" id=\"DejaVuSans-38\" transform=\"scale(0.015625)\"/>\r\n       </defs>\r\n       <use xlink:href=\"#DejaVuSans-30\"/>\r\n       <use x=\"63.623047\" xlink:href=\"#DejaVuSans-2e\"/>\r\n       <use x=\"95.410156\" xlink:href=\"#DejaVuSans-38\"/>\r\n      </g>\r\n     </g>\r\n    </g>\r\n    <g id=\"xtick_6\">\r\n     <g id=\"line2d_6\">\r\n      <g>\r\n       <use style=\"stroke:#000000;stroke-width:0.8;\" x=\"660.100938\" xlink:href=\"#me1d1a1f4e8\" y=\"294.118125\"/>\r\n      </g>\r\n     </g>\r\n     <g id=\"text_6\">\r\n      <!-- 1.0 -->\r\n      <g transform=\"translate(652.149375 308.716563)scale(0.1 -0.1)\">\r\n       <defs>\r\n        <path d=\"M 794 531 \r\nL 1825 531 \r\nL 1825 4091 \r\nL 703 3866 \r\nL 703 4441 \r\nL 1819 4666 \r\nL 2450 4666 \r\nL 2450 531 \r\nL 3481 531 \r\nL 3481 0 \r\nL 794 0 \r\nL 794 531 \r\nz\r\n\" id=\"DejaVuSans-31\" transform=\"scale(0.015625)\"/>\r\n       </defs>\r\n       <use xlink:href=\"#DejaVuSans-31\"/>\r\n       <use x=\"63.623047\" xlink:href=\"#DejaVuSans-2e\"/>\r\n       <use x=\"95.410156\" xlink:href=\"#DejaVuSans-30\"/>\r\n      </g>\r\n     </g>\r\n    </g>\r\n    <g id=\"text_7\">\r\n     <!-- Accuracy -->\r\n     <g transform=\"translate(379.96875 322.394687)scale(0.1 -0.1)\">\r\n      <defs>\r\n       <path d=\"M 2188 4044 \r\nL 1331 1722 \r\nL 3047 1722 \r\nL 2188 4044 \r\nz\r\nM 1831 4666 \r\nL 2547 4666 \r\nL 4325 0 \r\nL 3669 0 \r\nL 3244 1197 \r\nL 1141 1197 \r\nL 716 0 \r\nL 50 0 \r\nL 1831 4666 \r\nz\r\n\" id=\"DejaVuSans-41\" transform=\"scale(0.015625)\"/>\r\n       <path d=\"M 3122 3366 \r\nL 3122 2828 \r\nQ 2878 2963 2633 3030 \r\nQ 2388 3097 2138 3097 \r\nQ 1578 3097 1268 2742 \r\nQ 959 2388 959 1747 \r\nQ 959 1106 1268 751 \r\nQ 1578 397 2138 397 \r\nQ 2388 397 2633 464 \r\nQ 2878 531 3122 666 \r\nL 3122 134 \r\nQ 2881 22 2623 -34 \r\nQ 2366 -91 2075 -91 \r\nQ 1284 -91 818 406 \r\nQ 353 903 353 1747 \r\nQ 353 2603 823 3093 \r\nQ 1294 3584 2113 3584 \r\nQ 2378 3584 2631 3529 \r\nQ 2884 3475 3122 3366 \r\nz\r\n\" id=\"DejaVuSans-63\" transform=\"scale(0.015625)\"/>\r\n       <path d=\"M 544 1381 \r\nL 544 3500 \r\nL 1119 3500 \r\nL 1119 1403 \r\nQ 1119 906 1312 657 \r\nQ 1506 409 1894 409 \r\nQ 2359 409 2629 706 \r\nQ 2900 1003 2900 1516 \r\nL 2900 3500 \r\nL 3475 3500 \r\nL 3475 0 \r\nL 2900 0 \r\nL 2900 538 \r\nQ 2691 219 2414 64 \r\nQ 2138 -91 1772 -91 \r\nQ 1169 -91 856 284 \r\nQ 544 659 544 1381 \r\nz\r\nM 1991 3584 \r\nL 1991 3584 \r\nz\r\n\" id=\"DejaVuSans-75\" transform=\"scale(0.015625)\"/>\r\n       <path d=\"M 2631 2963 \r\nQ 2534 3019 2420 3045 \r\nQ 2306 3072 2169 3072 \r\nQ 1681 3072 1420 2755 \r\nQ 1159 2438 1159 1844 \r\nL 1159 0 \r\nL 581 0 \r\nL 581 3500 \r\nL 1159 3500 \r\nL 1159 2956 \r\nQ 1341 3275 1631 3429 \r\nQ 1922 3584 2338 3584 \r\nQ 2397 3584 2469 3576 \r\nQ 2541 3569 2628 3553 \r\nL 2631 2963 \r\nz\r\n\" id=\"DejaVuSans-72\" transform=\"scale(0.015625)\"/>\r\n       <path d=\"M 2194 1759 \r\nQ 1497 1759 1228 1600 \r\nQ 959 1441 959 1056 \r\nQ 959 750 1161 570 \r\nQ 1363 391 1709 391 \r\nQ 2188 391 2477 730 \r\nQ 2766 1069 2766 1631 \r\nL 2766 1759 \r\nL 2194 1759 \r\nz\r\nM 3341 1997 \r\nL 3341 0 \r\nL 2766 0 \r\nL 2766 531 \r\nQ 2569 213 2275 61 \r\nQ 1981 -91 1556 -91 \r\nQ 1019 -91 701 211 \r\nQ 384 513 384 1019 \r\nQ 384 1609 779 1909 \r\nQ 1175 2209 1959 2209 \r\nL 2766 2209 \r\nL 2766 2266 \r\nQ 2766 2663 2505 2880 \r\nQ 2244 3097 1772 3097 \r\nQ 1472 3097 1187 3025 \r\nQ 903 2953 641 2809 \r\nL 641 3341 \r\nQ 956 3463 1253 3523 \r\nQ 1550 3584 1831 3584 \r\nQ 2591 3584 2966 3190 \r\nQ 3341 2797 3341 1997 \r\nz\r\n\" id=\"DejaVuSans-61\" transform=\"scale(0.015625)\"/>\r\n       <path d=\"M 2059 -325 \r\nQ 1816 -950 1584 -1140 \r\nQ 1353 -1331 966 -1331 \r\nL 506 -1331 \r\nL 506 -850 \r\nL 844 -850 \r\nQ 1081 -850 1212 -737 \r\nQ 1344 -625 1503 -206 \r\nL 1606 56 \r\nL 191 3500 \r\nL 800 3500 \r\nL 1894 763 \r\nL 2988 3500 \r\nL 3597 3500 \r\nL 2059 -325 \r\nz\r\n\" id=\"DejaVuSans-79\" transform=\"scale(0.015625)\"/>\r\n      </defs>\r\n      <use xlink:href=\"#DejaVuSans-41\"/>\r\n      <use x=\"66.658203\" xlink:href=\"#DejaVuSans-63\"/>\r\n      <use x=\"121.638672\" xlink:href=\"#DejaVuSans-63\"/>\r\n      <use x=\"176.619141\" xlink:href=\"#DejaVuSans-75\"/>\r\n      <use x=\"239.998047\" xlink:href=\"#DejaVuSans-72\"/>\r\n      <use x=\"281.111328\" xlink:href=\"#DejaVuSans-61\"/>\r\n      <use x=\"342.390625\" xlink:href=\"#DejaVuSans-63\"/>\r\n      <use x=\"397.371094\" xlink:href=\"#DejaVuSans-79\"/>\r\n     </g>\r\n    </g>\r\n   </g>\r\n   <g id=\"matplotlib.axis_2\">\r\n    <g id=\"ytick_1\">\r\n     <g id=\"line2d_7\">\r\n      <defs>\r\n       <path d=\"M 0 0 \r\nL -3.5 0 \r\n\" id=\"m67d732b608\" style=\"stroke:#000000;stroke-width:0.8;\"/>\r\n      </defs>\r\n      <g>\r\n       <use style=\"stroke:#000000;stroke-width:0.8;\" x=\"123.796875\" xlink:href=\"#m67d732b608\" y=\"44.968125\"/>\r\n      </g>\r\n     </g>\r\n     <g id=\"text_8\">\r\n      <!-- Decision Tree -->\r\n      <g transform=\"translate(50.220312 48.767344)scale(0.1 -0.1)\">\r\n       <defs>\r\n        <path d=\"M 1259 4147 \r\nL 1259 519 \r\nL 2022 519 \r\nQ 2988 519 3436 956 \r\nQ 3884 1394 3884 2338 \r\nQ 3884 3275 3436 3711 \r\nQ 2988 4147 2022 4147 \r\nL 1259 4147 \r\nz\r\nM 628 4666 \r\nL 1925 4666 \r\nQ 3281 4666 3915 4102 \r\nQ 4550 3538 4550 2338 \r\nQ 4550 1131 3912 565 \r\nQ 3275 0 1925 0 \r\nL 628 0 \r\nL 628 4666 \r\nz\r\n\" id=\"DejaVuSans-44\" transform=\"scale(0.015625)\"/>\r\n        <path d=\"M 3597 1894 \r\nL 3597 1613 \r\nL 953 1613 \r\nQ 991 1019 1311 708 \r\nQ 1631 397 2203 397 \r\nQ 2534 397 2845 478 \r\nQ 3156 559 3463 722 \r\nL 3463 178 \r\nQ 3153 47 2828 -22 \r\nQ 2503 -91 2169 -91 \r\nQ 1331 -91 842 396 \r\nQ 353 884 353 1716 \r\nQ 353 2575 817 3079 \r\nQ 1281 3584 2069 3584 \r\nQ 2775 3584 3186 3129 \r\nQ 3597 2675 3597 1894 \r\nz\r\nM 3022 2063 \r\nQ 3016 2534 2758 2815 \r\nQ 2500 3097 2075 3097 \r\nQ 1594 3097 1305 2825 \r\nQ 1016 2553 972 2059 \r\nL 3022 2063 \r\nz\r\n\" id=\"DejaVuSans-65\" transform=\"scale(0.015625)\"/>\r\n        <path d=\"M 603 3500 \r\nL 1178 3500 \r\nL 1178 0 \r\nL 603 0 \r\nL 603 3500 \r\nz\r\nM 603 4863 \r\nL 1178 4863 \r\nL 1178 4134 \r\nL 603 4134 \r\nL 603 4863 \r\nz\r\n\" id=\"DejaVuSans-69\" transform=\"scale(0.015625)\"/>\r\n        <path d=\"M 2834 3397 \r\nL 2834 2853 \r\nQ 2591 2978 2328 3040 \r\nQ 2066 3103 1784 3103 \r\nQ 1356 3103 1142 2972 \r\nQ 928 2841 928 2578 \r\nQ 928 2378 1081 2264 \r\nQ 1234 2150 1697 2047 \r\nL 1894 2003 \r\nQ 2506 1872 2764 1633 \r\nQ 3022 1394 3022 966 \r\nQ 3022 478 2636 193 \r\nQ 2250 -91 1575 -91 \r\nQ 1294 -91 989 -36 \r\nQ 684 19 347 128 \r\nL 347 722 \r\nQ 666 556 975 473 \r\nQ 1284 391 1588 391 \r\nQ 1994 391 2212 530 \r\nQ 2431 669 2431 922 \r\nQ 2431 1156 2273 1281 \r\nQ 2116 1406 1581 1522 \r\nL 1381 1569 \r\nQ 847 1681 609 1914 \r\nQ 372 2147 372 2553 \r\nQ 372 3047 722 3315 \r\nQ 1072 3584 1716 3584 \r\nQ 2034 3584 2315 3537 \r\nQ 2597 3491 2834 3397 \r\nz\r\n\" id=\"DejaVuSans-73\" transform=\"scale(0.015625)\"/>\r\n        <path d=\"M 1959 3097 \r\nQ 1497 3097 1228 2736 \r\nQ 959 2375 959 1747 \r\nQ 959 1119 1226 758 \r\nQ 1494 397 1959 397 \r\nQ 2419 397 2687 759 \r\nQ 2956 1122 2956 1747 \r\nQ 2956 2369 2687 2733 \r\nQ 2419 3097 1959 3097 \r\nz\r\nM 1959 3584 \r\nQ 2709 3584 3137 3096 \r\nQ 3566 2609 3566 1747 \r\nQ 3566 888 3137 398 \r\nQ 2709 -91 1959 -91 \r\nQ 1206 -91 779 398 \r\nQ 353 888 353 1747 \r\nQ 353 2609 779 3096 \r\nQ 1206 3584 1959 3584 \r\nz\r\n\" id=\"DejaVuSans-6f\" transform=\"scale(0.015625)\"/>\r\n        <path d=\"M 3513 2113 \r\nL 3513 0 \r\nL 2938 0 \r\nL 2938 2094 \r\nQ 2938 2591 2744 2837 \r\nQ 2550 3084 2163 3084 \r\nQ 1697 3084 1428 2787 \r\nQ 1159 2491 1159 1978 \r\nL 1159 0 \r\nL 581 0 \r\nL 581 3500 \r\nL 1159 3500 \r\nL 1159 2956 \r\nQ 1366 3272 1645 3428 \r\nQ 1925 3584 2291 3584 \r\nQ 2894 3584 3203 3211 \r\nQ 3513 2838 3513 2113 \r\nz\r\n\" id=\"DejaVuSans-6e\" transform=\"scale(0.015625)\"/>\r\n        <path id=\"DejaVuSans-20\" transform=\"scale(0.015625)\"/>\r\n        <path d=\"M -19 4666 \r\nL 3928 4666 \r\nL 3928 4134 \r\nL 2272 4134 \r\nL 2272 0 \r\nL 1638 0 \r\nL 1638 4134 \r\nL -19 4134 \r\nL -19 4666 \r\nz\r\n\" id=\"DejaVuSans-54\" transform=\"scale(0.015625)\"/>\r\n       </defs>\r\n       <use xlink:href=\"#DejaVuSans-44\"/>\r\n       <use x=\"77.001953\" xlink:href=\"#DejaVuSans-65\"/>\r\n       <use x=\"138.525391\" xlink:href=\"#DejaVuSans-63\"/>\r\n       <use x=\"193.505859\" xlink:href=\"#DejaVuSans-69\"/>\r\n       <use x=\"221.289062\" xlink:href=\"#DejaVuSans-73\"/>\r\n       <use x=\"273.388672\" xlink:href=\"#DejaVuSans-69\"/>\r\n       <use x=\"301.171875\" xlink:href=\"#DejaVuSans-6f\"/>\r\n       <use x=\"362.353516\" xlink:href=\"#DejaVuSans-6e\"/>\r\n       <use x=\"425.732422\" xlink:href=\"#DejaVuSans-20\"/>\r\n       <use x=\"457.519531\" xlink:href=\"#DejaVuSans-54\"/>\r\n       <use x=\"503.853516\" xlink:href=\"#DejaVuSans-72\"/>\r\n       <use x=\"542.716797\" xlink:href=\"#DejaVuSans-65\"/>\r\n       <use x=\"604.240234\" xlink:href=\"#DejaVuSans-65\"/>\r\n      </g>\r\n     </g>\r\n    </g>\r\n    <g id=\"ytick_2\">\r\n     <g id=\"line2d_8\">\r\n      <g>\r\n       <use style=\"stroke:#000000;stroke-width:0.8;\" x=\"123.796875\" xlink:href=\"#m67d732b608\" y=\"90.268125\"/>\r\n      </g>\r\n     </g>\r\n     <g id=\"text_9\">\r\n      <!-- Naive Bayes -->\r\n      <g transform=\"translate(54.889062 94.067344)scale(0.1 -0.1)\">\r\n       <defs>\r\n        <path d=\"M 628 4666 \r\nL 1478 4666 \r\nL 3547 763 \r\nL 3547 4666 \r\nL 4159 4666 \r\nL 4159 0 \r\nL 3309 0 \r\nL 1241 3903 \r\nL 1241 0 \r\nL 628 0 \r\nL 628 4666 \r\nz\r\n\" id=\"DejaVuSans-4e\" transform=\"scale(0.015625)\"/>\r\n        <path d=\"M 191 3500 \r\nL 800 3500 \r\nL 1894 563 \r\nL 2988 3500 \r\nL 3597 3500 \r\nL 2284 0 \r\nL 1503 0 \r\nL 191 3500 \r\nz\r\n\" id=\"DejaVuSans-76\" transform=\"scale(0.015625)\"/>\r\n        <path d=\"M 1259 2228 \r\nL 1259 519 \r\nL 2272 519 \r\nQ 2781 519 3026 730 \r\nQ 3272 941 3272 1375 \r\nQ 3272 1813 3026 2020 \r\nQ 2781 2228 2272 2228 \r\nL 1259 2228 \r\nz\r\nM 1259 4147 \r\nL 1259 2741 \r\nL 2194 2741 \r\nQ 2656 2741 2882 2914 \r\nQ 3109 3088 3109 3444 \r\nQ 3109 3797 2882 3972 \r\nQ 2656 4147 2194 4147 \r\nL 1259 4147 \r\nz\r\nM 628 4666 \r\nL 2241 4666 \r\nQ 2963 4666 3353 4366 \r\nQ 3744 4066 3744 3513 \r\nQ 3744 3084 3544 2831 \r\nQ 3344 2578 2956 2516 \r\nQ 3422 2416 3680 2098 \r\nQ 3938 1781 3938 1306 \r\nQ 3938 681 3513 340 \r\nQ 3088 0 2303 0 \r\nL 628 0 \r\nL 628 4666 \r\nz\r\n\" id=\"DejaVuSans-42\" transform=\"scale(0.015625)\"/>\r\n       </defs>\r\n       <use xlink:href=\"#DejaVuSans-4e\"/>\r\n       <use x=\"74.804688\" xlink:href=\"#DejaVuSans-61\"/>\r\n       <use x=\"136.083984\" xlink:href=\"#DejaVuSans-69\"/>\r\n       <use x=\"163.867188\" xlink:href=\"#DejaVuSans-76\"/>\r\n       <use x=\"223.046875\" xlink:href=\"#DejaVuSans-65\"/>\r\n       <use x=\"284.570312\" xlink:href=\"#DejaVuSans-20\"/>\r\n       <use x=\"316.357422\" xlink:href=\"#DejaVuSans-42\"/>\r\n       <use x=\"384.960938\" xlink:href=\"#DejaVuSans-61\"/>\r\n       <use x=\"446.240234\" xlink:href=\"#DejaVuSans-79\"/>\r\n       <use x=\"505.419922\" xlink:href=\"#DejaVuSans-65\"/>\r\n       <use x=\"566.943359\" xlink:href=\"#DejaVuSans-73\"/>\r\n      </g>\r\n     </g>\r\n    </g>\r\n    <g id=\"ytick_3\">\r\n     <g id=\"line2d_9\">\r\n      <g>\r\n       <use style=\"stroke:#000000;stroke-width:0.8;\" x=\"123.796875\" xlink:href=\"#m67d732b608\" y=\"135.568125\"/>\r\n      </g>\r\n     </g>\r\n     <g id=\"text_10\">\r\n      <!-- SVM -->\r\n      <g transform=\"translate(94.979687 139.367344)scale(0.1 -0.1)\">\r\n       <defs>\r\n        <path d=\"M 3425 4513 \r\nL 3425 3897 \r\nQ 3066 4069 2747 4153 \r\nQ 2428 4238 2131 4238 \r\nQ 1616 4238 1336 4038 \r\nQ 1056 3838 1056 3469 \r\nQ 1056 3159 1242 3001 \r\nQ 1428 2844 1947 2747 \r\nL 2328 2669 \r\nQ 3034 2534 3370 2195 \r\nQ 3706 1856 3706 1288 \r\nQ 3706 609 3251 259 \r\nQ 2797 -91 1919 -91 \r\nQ 1588 -91 1214 -16 \r\nQ 841 59 441 206 \r\nL 441 856 \r\nQ 825 641 1194 531 \r\nQ 1563 422 1919 422 \r\nQ 2459 422 2753 634 \r\nQ 3047 847 3047 1241 \r\nQ 3047 1584 2836 1778 \r\nQ 2625 1972 2144 2069 \r\nL 1759 2144 \r\nQ 1053 2284 737 2584 \r\nQ 422 2884 422 3419 \r\nQ 422 4038 858 4394 \r\nQ 1294 4750 2059 4750 \r\nQ 2388 4750 2728 4690 \r\nQ 3069 4631 3425 4513 \r\nz\r\n\" id=\"DejaVuSans-53\" transform=\"scale(0.015625)\"/>\r\n        <path d=\"M 1831 0 \r\nL 50 4666 \r\nL 709 4666 \r\nL 2188 738 \r\nL 3669 4666 \r\nL 4325 4666 \r\nL 2547 0 \r\nL 1831 0 \r\nz\r\n\" id=\"DejaVuSans-56\" transform=\"scale(0.015625)\"/>\r\n        <path d=\"M 628 4666 \r\nL 1569 4666 \r\nL 2759 1491 \r\nL 3956 4666 \r\nL 4897 4666 \r\nL 4897 0 \r\nL 4281 0 \r\nL 4281 4097 \r\nL 3078 897 \r\nL 2444 897 \r\nL 1241 4097 \r\nL 1241 0 \r\nL 628 0 \r\nL 628 4666 \r\nz\r\n\" id=\"DejaVuSans-4d\" transform=\"scale(0.015625)\"/>\r\n       </defs>\r\n       <use xlink:href=\"#DejaVuSans-53\"/>\r\n       <use x=\"63.476562\" xlink:href=\"#DejaVuSans-56\"/>\r\n       <use x=\"131.884766\" xlink:href=\"#DejaVuSans-4d\"/>\r\n      </g>\r\n     </g>\r\n    </g>\r\n    <g id=\"ytick_4\">\r\n     <g id=\"line2d_10\">\r\n      <g>\r\n       <use style=\"stroke:#000000;stroke-width:0.8;\" x=\"123.796875\" xlink:href=\"#m67d732b608\" y=\"180.868125\"/>\r\n      </g>\r\n     </g>\r\n     <g id=\"text_11\">\r\n      <!-- Logistic Regression -->\r\n      <g transform=\"translate(20.878125 184.667344)scale(0.1 -0.1)\">\r\n       <defs>\r\n        <path d=\"M 628 4666 \r\nL 1259 4666 \r\nL 1259 531 \r\nL 3531 531 \r\nL 3531 0 \r\nL 628 0 \r\nL 628 4666 \r\nz\r\n\" id=\"DejaVuSans-4c\" transform=\"scale(0.015625)\"/>\r\n        <path d=\"M 2906 1791 \r\nQ 2906 2416 2648 2759 \r\nQ 2391 3103 1925 3103 \r\nQ 1463 3103 1205 2759 \r\nQ 947 2416 947 1791 \r\nQ 947 1169 1205 825 \r\nQ 1463 481 1925 481 \r\nQ 2391 481 2648 825 \r\nQ 2906 1169 2906 1791 \r\nz\r\nM 3481 434 \r\nQ 3481 -459 3084 -895 \r\nQ 2688 -1331 1869 -1331 \r\nQ 1566 -1331 1297 -1286 \r\nQ 1028 -1241 775 -1147 \r\nL 775 -588 \r\nQ 1028 -725 1275 -790 \r\nQ 1522 -856 1778 -856 \r\nQ 2344 -856 2625 -561 \r\nQ 2906 -266 2906 331 \r\nL 2906 616 \r\nQ 2728 306 2450 153 \r\nQ 2172 0 1784 0 \r\nQ 1141 0 747 490 \r\nQ 353 981 353 1791 \r\nQ 353 2603 747 3093 \r\nQ 1141 3584 1784 3584 \r\nQ 2172 3584 2450 3431 \r\nQ 2728 3278 2906 2969 \r\nL 2906 3500 \r\nL 3481 3500 \r\nL 3481 434 \r\nz\r\n\" id=\"DejaVuSans-67\" transform=\"scale(0.015625)\"/>\r\n        <path d=\"M 1172 4494 \r\nL 1172 3500 \r\nL 2356 3500 \r\nL 2356 3053 \r\nL 1172 3053 \r\nL 1172 1153 \r\nQ 1172 725 1289 603 \r\nQ 1406 481 1766 481 \r\nL 2356 481 \r\nL 2356 0 \r\nL 1766 0 \r\nQ 1100 0 847 248 \r\nQ 594 497 594 1153 \r\nL 594 3053 \r\nL 172 3053 \r\nL 172 3500 \r\nL 594 3500 \r\nL 594 4494 \r\nL 1172 4494 \r\nz\r\n\" id=\"DejaVuSans-74\" transform=\"scale(0.015625)\"/>\r\n        <path d=\"M 2841 2188 \r\nQ 3044 2119 3236 1894 \r\nQ 3428 1669 3622 1275 \r\nL 4263 0 \r\nL 3584 0 \r\nL 2988 1197 \r\nQ 2756 1666 2539 1819 \r\nQ 2322 1972 1947 1972 \r\nL 1259 1972 \r\nL 1259 0 \r\nL 628 0 \r\nL 628 4666 \r\nL 2053 4666 \r\nQ 2853 4666 3247 4331 \r\nQ 3641 3997 3641 3322 \r\nQ 3641 2881 3436 2590 \r\nQ 3231 2300 2841 2188 \r\nz\r\nM 1259 4147 \r\nL 1259 2491 \r\nL 2053 2491 \r\nQ 2509 2491 2742 2702 \r\nQ 2975 2913 2975 3322 \r\nQ 2975 3731 2742 3939 \r\nQ 2509 4147 2053 4147 \r\nL 1259 4147 \r\nz\r\n\" id=\"DejaVuSans-52\" transform=\"scale(0.015625)\"/>\r\n       </defs>\r\n       <use xlink:href=\"#DejaVuSans-4c\"/>\r\n       <use x=\"53.962891\" xlink:href=\"#DejaVuSans-6f\"/>\r\n       <use x=\"115.144531\" xlink:href=\"#DejaVuSans-67\"/>\r\n       <use x=\"178.621094\" xlink:href=\"#DejaVuSans-69\"/>\r\n       <use x=\"206.404297\" xlink:href=\"#DejaVuSans-73\"/>\r\n       <use x=\"258.503906\" xlink:href=\"#DejaVuSans-74\"/>\r\n       <use x=\"297.712891\" xlink:href=\"#DejaVuSans-69\"/>\r\n       <use x=\"325.496094\" xlink:href=\"#DejaVuSans-63\"/>\r\n       <use x=\"380.476562\" xlink:href=\"#DejaVuSans-20\"/>\r\n       <use x=\"412.263672\" xlink:href=\"#DejaVuSans-52\"/>\r\n       <use x=\"477.246094\" xlink:href=\"#DejaVuSans-65\"/>\r\n       <use x=\"538.769531\" xlink:href=\"#DejaVuSans-67\"/>\r\n       <use x=\"602.246094\" xlink:href=\"#DejaVuSans-72\"/>\r\n       <use x=\"641.109375\" xlink:href=\"#DejaVuSans-65\"/>\r\n       <use x=\"702.632812\" xlink:href=\"#DejaVuSans-73\"/>\r\n       <use x=\"754.732422\" xlink:href=\"#DejaVuSans-73\"/>\r\n       <use x=\"806.832031\" xlink:href=\"#DejaVuSans-69\"/>\r\n       <use x=\"834.615234\" xlink:href=\"#DejaVuSans-6f\"/>\r\n       <use x=\"895.796875\" xlink:href=\"#DejaVuSans-6e\"/>\r\n      </g>\r\n     </g>\r\n    </g>\r\n    <g id=\"ytick_5\">\r\n     <g id=\"line2d_11\">\r\n      <g>\r\n       <use style=\"stroke:#000000;stroke-width:0.8;\" x=\"123.796875\" xlink:href=\"#m67d732b608\" y=\"226.168125\"/>\r\n      </g>\r\n     </g>\r\n     <g id=\"text_12\">\r\n      <!-- RF -->\r\n      <g transform=\"translate(104.096875 229.967344)scale(0.1 -0.1)\">\r\n       <defs>\r\n        <path d=\"M 628 4666 \r\nL 3309 4666 \r\nL 3309 4134 \r\nL 1259 4134 \r\nL 1259 2759 \r\nL 3109 2759 \r\nL 3109 2228 \r\nL 1259 2228 \r\nL 1259 0 \r\nL 628 0 \r\nL 628 4666 \r\nz\r\n\" id=\"DejaVuSans-46\" transform=\"scale(0.015625)\"/>\r\n       </defs>\r\n       <use xlink:href=\"#DejaVuSans-52\"/>\r\n       <use x=\"69.482422\" xlink:href=\"#DejaVuSans-46\"/>\r\n      </g>\r\n     </g>\r\n    </g>\r\n    <g id=\"ytick_6\">\r\n     <g id=\"line2d_12\">\r\n      <g>\r\n       <use style=\"stroke:#000000;stroke-width:0.8;\" x=\"123.796875\" xlink:href=\"#m67d732b608\" y=\"271.468125\"/>\r\n      </g>\r\n     </g>\r\n     <g id=\"text_13\">\r\n      <!-- XGBoost -->\r\n      <g transform=\"translate(73.970313 275.267344)scale(0.1 -0.1)\">\r\n       <defs>\r\n        <path d=\"M 403 4666 \r\nL 1081 4666 \r\nL 2241 2931 \r\nL 3406 4666 \r\nL 4084 4666 \r\nL 2584 2425 \r\nL 4184 0 \r\nL 3506 0 \r\nL 2194 1984 \r\nL 872 0 \r\nL 191 0 \r\nL 1856 2491 \r\nL 403 4666 \r\nz\r\n\" id=\"DejaVuSans-58\" transform=\"scale(0.015625)\"/>\r\n        <path d=\"M 3809 666 \r\nL 3809 1919 \r\nL 2778 1919 \r\nL 2778 2438 \r\nL 4434 2438 \r\nL 4434 434 \r\nQ 4069 175 3628 42 \r\nQ 3188 -91 2688 -91 \r\nQ 1594 -91 976 548 \r\nQ 359 1188 359 2328 \r\nQ 359 3472 976 4111 \r\nQ 1594 4750 2688 4750 \r\nQ 3144 4750 3555 4637 \r\nQ 3966 4525 4313 4306 \r\nL 4313 3634 \r\nQ 3963 3931 3569 4081 \r\nQ 3175 4231 2741 4231 \r\nQ 1884 4231 1454 3753 \r\nQ 1025 3275 1025 2328 \r\nQ 1025 1384 1454 906 \r\nQ 1884 428 2741 428 \r\nQ 3075 428 3337 486 \r\nQ 3600 544 3809 666 \r\nz\r\n\" id=\"DejaVuSans-47\" transform=\"scale(0.015625)\"/>\r\n       </defs>\r\n       <use xlink:href=\"#DejaVuSans-58\"/>\r\n       <use x=\"68.505859\" xlink:href=\"#DejaVuSans-47\"/>\r\n       <use x=\"145.996094\" xlink:href=\"#DejaVuSans-42\"/>\r\n       <use x=\"214.599609\" xlink:href=\"#DejaVuSans-6f\"/>\r\n       <use x=\"275.78125\" xlink:href=\"#DejaVuSans-6f\"/>\r\n       <use x=\"336.962891\" xlink:href=\"#DejaVuSans-73\"/>\r\n       <use x=\"389.0625\" xlink:href=\"#DejaVuSans-74\"/>\r\n      </g>\r\n     </g>\r\n    </g>\r\n    <g id=\"text_14\">\r\n     <!-- Algorithm -->\r\n     <g transform=\"translate(14.798437 182.704844)rotate(-90)scale(0.1 -0.1)\">\r\n      <defs>\r\n       <path d=\"M 603 4863 \r\nL 1178 4863 \r\nL 1178 0 \r\nL 603 0 \r\nL 603 4863 \r\nz\r\n\" id=\"DejaVuSans-6c\" transform=\"scale(0.015625)\"/>\r\n       <path d=\"M 3513 2113 \r\nL 3513 0 \r\nL 2938 0 \r\nL 2938 2094 \r\nQ 2938 2591 2744 2837 \r\nQ 2550 3084 2163 3084 \r\nQ 1697 3084 1428 2787 \r\nQ 1159 2491 1159 1978 \r\nL 1159 0 \r\nL 581 0 \r\nL 581 4863 \r\nL 1159 4863 \r\nL 1159 2956 \r\nQ 1366 3272 1645 3428 \r\nQ 1925 3584 2291 3584 \r\nQ 2894 3584 3203 3211 \r\nQ 3513 2838 3513 2113 \r\nz\r\n\" id=\"DejaVuSans-68\" transform=\"scale(0.015625)\"/>\r\n       <path d=\"M 3328 2828 \r\nQ 3544 3216 3844 3400 \r\nQ 4144 3584 4550 3584 \r\nQ 5097 3584 5394 3201 \r\nQ 5691 2819 5691 2113 \r\nL 5691 0 \r\nL 5113 0 \r\nL 5113 2094 \r\nQ 5113 2597 4934 2840 \r\nQ 4756 3084 4391 3084 \r\nQ 3944 3084 3684 2787 \r\nQ 3425 2491 3425 1978 \r\nL 3425 0 \r\nL 2847 0 \r\nL 2847 2094 \r\nQ 2847 2600 2669 2842 \r\nQ 2491 3084 2119 3084 \r\nQ 1678 3084 1418 2786 \r\nQ 1159 2488 1159 1978 \r\nL 1159 0 \r\nL 581 0 \r\nL 581 3500 \r\nL 1159 3500 \r\nL 1159 2956 \r\nQ 1356 3278 1631 3431 \r\nQ 1906 3584 2284 3584 \r\nQ 2666 3584 2933 3390 \r\nQ 3200 3197 3328 2828 \r\nz\r\n\" id=\"DejaVuSans-6d\" transform=\"scale(0.015625)\"/>\r\n      </defs>\r\n      <use xlink:href=\"#DejaVuSans-41\"/>\r\n      <use x=\"68.408203\" xlink:href=\"#DejaVuSans-6c\"/>\r\n      <use x=\"96.191406\" xlink:href=\"#DejaVuSans-67\"/>\r\n      <use x=\"159.667969\" xlink:href=\"#DejaVuSans-6f\"/>\r\n      <use x=\"220.849609\" xlink:href=\"#DejaVuSans-72\"/>\r\n      <use x=\"261.962891\" xlink:href=\"#DejaVuSans-69\"/>\r\n      <use x=\"289.746094\" xlink:href=\"#DejaVuSans-74\"/>\r\n      <use x=\"328.955078\" xlink:href=\"#DejaVuSans-68\"/>\r\n      <use x=\"392.333984\" xlink:href=\"#DejaVuSans-6d\"/>\r\n     </g>\r\n    </g>\r\n   </g>\r\n   <g id=\"line2d_13\">\r\n    <path clip-path=\"url(#p8423830419)\" style=\"fill:none;stroke:#424242;stroke-linecap:square;stroke-width:2.7;\"/>\r\n   </g>\r\n   <g id=\"line2d_14\">\r\n    <path clip-path=\"url(#p8423830419)\" style=\"fill:none;stroke:#424242;stroke-linecap:square;stroke-width:2.7;\"/>\r\n   </g>\r\n   <g id=\"line2d_15\">\r\n    <path clip-path=\"url(#p8423830419)\" style=\"fill:none;stroke:#424242;stroke-linecap:square;stroke-width:2.7;\"/>\r\n   </g>\r\n   <g id=\"line2d_16\">\r\n    <path clip-path=\"url(#p8423830419)\" style=\"fill:none;stroke:#424242;stroke-linecap:square;stroke-width:2.7;\"/>\r\n   </g>\r\n   <g id=\"line2d_17\">\r\n    <path clip-path=\"url(#p8423830419)\" style=\"fill:none;stroke:#424242;stroke-linecap:square;stroke-width:2.7;\"/>\r\n   </g>\r\n   <g id=\"line2d_18\">\r\n    <path clip-path=\"url(#p8423830419)\" style=\"fill:none;stroke:#424242;stroke-linecap:square;stroke-width:2.7;\"/>\r\n   </g>\r\n   <g id=\"patch_9\">\r\n    <path d=\"M 123.796875 294.118125 \r\nL 123.796875 22.318125 \r\n\" style=\"fill:none;stroke:#000000;stroke-linecap:square;stroke-linejoin:miter;stroke-width:0.8;\"/>\r\n   </g>\r\n   <g id=\"patch_10\">\r\n    <path d=\"M 681.796875 294.118125 \r\nL 681.796875 22.318125 \r\n\" style=\"fill:none;stroke:#000000;stroke-linecap:square;stroke-linejoin:miter;stroke-width:0.8;\"/>\r\n   </g>\r\n   <g id=\"patch_11\">\r\n    <path d=\"M 123.796875 294.118125 \r\nL 681.796875 294.118125 \r\n\" style=\"fill:none;stroke:#000000;stroke-linecap:square;stroke-linejoin:miter;stroke-width:0.8;\"/>\r\n   </g>\r\n   <g id=\"patch_12\">\r\n    <path d=\"M 123.796875 22.318125 \r\nL 681.796875 22.318125 \r\n\" style=\"fill:none;stroke:#000000;stroke-linecap:square;stroke-linejoin:miter;stroke-width:0.8;\"/>\r\n   </g>\r\n   <g id=\"text_15\">\r\n    <!-- Accuracy Comparison -->\r\n    <g transform=\"translate(337.572187 16.318125)scale(0.12 -0.12)\">\r\n     <defs>\r\n      <path d=\"M 4122 4306 \r\nL 4122 3641 \r\nQ 3803 3938 3442 4084 \r\nQ 3081 4231 2675 4231 \r\nQ 1875 4231 1450 3742 \r\nQ 1025 3253 1025 2328 \r\nQ 1025 1406 1450 917 \r\nQ 1875 428 2675 428 \r\nQ 3081 428 3442 575 \r\nQ 3803 722 4122 1019 \r\nL 4122 359 \r\nQ 3791 134 3420 21 \r\nQ 3050 -91 2638 -91 \r\nQ 1578 -91 968 557 \r\nQ 359 1206 359 2328 \r\nQ 359 3453 968 4101 \r\nQ 1578 4750 2638 4750 \r\nQ 3056 4750 3426 4639 \r\nQ 3797 4528 4122 4306 \r\nz\r\n\" id=\"DejaVuSans-43\" transform=\"scale(0.015625)\"/>\r\n      <path d=\"M 1159 525 \r\nL 1159 -1331 \r\nL 581 -1331 \r\nL 581 3500 \r\nL 1159 3500 \r\nL 1159 2969 \r\nQ 1341 3281 1617 3432 \r\nQ 1894 3584 2278 3584 \r\nQ 2916 3584 3314 3078 \r\nQ 3713 2572 3713 1747 \r\nQ 3713 922 3314 415 \r\nQ 2916 -91 2278 -91 \r\nQ 1894 -91 1617 61 \r\nQ 1341 213 1159 525 \r\nz\r\nM 3116 1747 \r\nQ 3116 2381 2855 2742 \r\nQ 2594 3103 2138 3103 \r\nQ 1681 3103 1420 2742 \r\nQ 1159 2381 1159 1747 \r\nQ 1159 1113 1420 752 \r\nQ 1681 391 2138 391 \r\nQ 2594 391 2855 752 \r\nQ 3116 1113 3116 1747 \r\nz\r\n\" id=\"DejaVuSans-70\" transform=\"scale(0.015625)\"/>\r\n     </defs>\r\n     <use xlink:href=\"#DejaVuSans-41\"/>\r\n     <use x=\"66.658203\" xlink:href=\"#DejaVuSans-63\"/>\r\n     <use x=\"121.638672\" xlink:href=\"#DejaVuSans-63\"/>\r\n     <use x=\"176.619141\" xlink:href=\"#DejaVuSans-75\"/>\r\n     <use x=\"239.998047\" xlink:href=\"#DejaVuSans-72\"/>\r\n     <use x=\"281.111328\" xlink:href=\"#DejaVuSans-61\"/>\r\n     <use x=\"342.390625\" xlink:href=\"#DejaVuSans-63\"/>\r\n     <use x=\"397.371094\" xlink:href=\"#DejaVuSans-79\"/>\r\n     <use x=\"456.550781\" xlink:href=\"#DejaVuSans-20\"/>\r\n     <use x=\"488.337891\" xlink:href=\"#DejaVuSans-43\"/>\r\n     <use x=\"558.162109\" xlink:href=\"#DejaVuSans-6f\"/>\r\n     <use x=\"619.34375\" xlink:href=\"#DejaVuSans-6d\"/>\r\n     <use x=\"716.755859\" xlink:href=\"#DejaVuSans-70\"/>\r\n     <use x=\"780.232422\" xlink:href=\"#DejaVuSans-61\"/>\r\n     <use x=\"841.511719\" xlink:href=\"#DejaVuSans-72\"/>\r\n     <use x=\"882.625\" xlink:href=\"#DejaVuSans-69\"/>\r\n     <use x=\"910.408203\" xlink:href=\"#DejaVuSans-73\"/>\r\n     <use x=\"962.507812\" xlink:href=\"#DejaVuSans-6f\"/>\r\n     <use x=\"1023.689453\" xlink:href=\"#DejaVuSans-6e\"/>\r\n    </g>\r\n   </g>\r\n  </g>\r\n </g>\r\n <defs>\r\n  <clipPath id=\"p8423830419\">\r\n   <rect height=\"271.8\" width=\"558\" x=\"123.796875\" y=\"22.318125\"/>\r\n  </clipPath>\r\n </defs>\r\n</svg>\r\n",
      "image/png": "[encoded data removed]"
     },
     "metadata": {
      "needs_background": "light"
     }
    }
   ],
   "metadata": {}
  },
  {
   "cell_type": "code",
   "execution_count": 37,
   "source": [
    "accuracy_models = dict(zip(model, acc))\r\n",
    "for k, v in accuracy_models.items():\r\n",
    "    print (k, '-->', v)"
   ],
   "outputs": [
    {
     "output_type": "stream",
     "name": "stdout",
     "text": [
      "Decision Tree --> 0.9090909090909091\n",
      "Naive Bayes --> 0.9863636363636363\n",
      "SVM --> 0.9704545454545455\n",
      "Logistic Regression --> 0.9659090909090909\n",
      "RF --> 0.9886363636363636\n",
      "XGBoost --> 0.990909090909091\n"
     ]
    }
   ],
   "metadata": {}
  },
  {
   "cell_type": "markdown",
   "source": [
    "## Making a prediction"
   ],
   "metadata": {}
  },
  {
   "cell_type": "code",
   "execution_count": 38,
   "source": [
    "data = np.array([[104,18, 30, 23.603016, 60.3, 6.7, 140.91]])\r\n",
    "prediction = RF.predict(data)\r\n",
    "print(prediction)"
   ],
   "outputs": [
    {
     "output_type": "stream",
     "name": "stdout",
     "text": [
      "['coffee']\n"
     ]
    }
   ],
   "metadata": {}
  },
  {
   "cell_type": "code",
   "execution_count": 39,
   "source": [
    "data = np.array([[83, 45, 60, 28, 70.3, 7.0, 150.9]])\r\n",
    "prediction = RF.predict(data)\r\n",
    "print(prediction)"
   ],
   "outputs": [
    {
     "output_type": "stream",
     "name": "stdout",
     "text": [
      "['jute']\n"
     ]
    }
   ],
   "metadata": {}
  },
  {
   "cell_type": "code",
   "execution_count": null,
   "source": [],
   "outputs": [],
   "metadata": {}
  },
  {
   "cell_type": "code",
   "execution_count": null,
   "source": [],
   "outputs": [],
   "metadata": {}
  }
 ],
 "metadata": {
  "kernelspec": {
   "name": "python3",
   "display_name": "Python 3.8.1 64-bit"
  },
  "language_info": {
   "codemirror_mode": {
    "name": "ipython",
    "version": 3
   },
   "file_extension": ".py",
   "mimetype": "text/x-python",
   "name": "python",
   "nbconvert_exporter": "python",
   "pygments_lexer": "ipython3",
   "version": "3.8.1"
  },
  "interpreter": {
   "hash": "96184bb4a7afd40732f2d46216ceffbc4b4c465d12031bac161e27f23fad23c1"
  }
 },
 "nbformat": 4,
 "nbformat_minor": 4
}